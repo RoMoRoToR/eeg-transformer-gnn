{
 "cells": [
  {
   "cell_type": "code",
   "id": "initial_id",
   "metadata": {
    "collapsed": true,
    "ExecuteTime": {
     "end_time": "2025-01-27T12:44:42.754730Z",
     "start_time": "2025-01-27T12:44:41.873334Z"
    }
   },
   "source": [
    "import os\n",
    "import mne\n",
    "from mne_bids import BIDSPath, read_raw_bids"
   ],
   "outputs": [],
   "execution_count": 1
  },
  {
   "metadata": {
    "ExecuteTime": {
     "end_time": "2025-01-27T12:44:42.762703Z",
     "start_time": "2025-01-27T12:44:42.758720Z"
    }
   },
   "cell_type": "code",
   "source": [
    "# Путь к корневой папке датасета (ds004504):\n",
    "BIDS_ROOT = \"/path/to/ds004504\""
   ],
   "id": "da77913decda35fa",
   "outputs": [],
   "execution_count": 2
  },
  {
   "metadata": {
    "ExecuteTime": {
     "end_time": "2025-01-27T12:44:42.945618Z",
     "start_time": "2025-01-27T12:44:42.943837Z"
    }
   },
   "cell_type": "code",
   "source": [
    "# Пример: список испытуемых.\n",
    "# Можно найти их автоматически, посмотрев подпапки sub-xx, либо прописать вручную.\n",
    "SUBJECTS = [\"001\", \"002\"]  # в реальном датасете ds004504 другие индексы"
   ],
   "id": "b952983c2178ba3b",
   "outputs": [],
   "execution_count": 3
  },
  {
   "metadata": {
    "ExecuteTime": {
     "end_time": "2025-01-27T12:44:42.952872Z",
     "start_time": "2025-01-27T12:44:42.951090Z"
    }
   },
   "cell_type": "code",
   "source": [
    "# Параметры фильтрации:\n",
    "L_FREQ = 1.0   # нижняя частота\n",
    "H_FREQ = 40.0  # верхняя частота"
   ],
   "id": "90415ec2c9526afc",
   "outputs": [],
   "execution_count": 4
  },
  {
   "metadata": {
    "ExecuteTime": {
     "end_time": "2025-01-27T12:44:43.180537Z",
     "start_time": "2025-01-27T12:44:42.958536Z"
    }
   },
   "cell_type": "code",
   "source": [
    "# Папка, куда будем сохранять отфильтрованные файлы\n",
    "OUT_DIR = os.path.join(BIDS_ROOT, \"derivatives\", \"filtered_eeg\")\n",
    "os.makedirs(OUT_DIR, exist_ok=True)"
   ],
   "id": "a229828f56cd931d",
   "outputs": [
    {
     "ename": "OSError",
     "evalue": "[Errno 30] Read-only file system: '/path'",
     "output_type": "error",
     "traceback": [
      "\u001B[0;31m---------------------------------------------------------------------------\u001B[0m",
      "\u001B[0;31mOSError\u001B[0m                                   Traceback (most recent call last)",
      "Cell \u001B[0;32mIn[5], line 3\u001B[0m\n\u001B[1;32m      1\u001B[0m \u001B[38;5;66;03m# Папка, куда будем сохранять отфильтрованные файлы\u001B[39;00m\n\u001B[1;32m      2\u001B[0m OUT_DIR \u001B[38;5;241m=\u001B[39m os\u001B[38;5;241m.\u001B[39mpath\u001B[38;5;241m.\u001B[39mjoin(BIDS_ROOT, \u001B[38;5;124m\"\u001B[39m\u001B[38;5;124mderivatives\u001B[39m\u001B[38;5;124m\"\u001B[39m, \u001B[38;5;124m\"\u001B[39m\u001B[38;5;124mfiltered_eeg\u001B[39m\u001B[38;5;124m\"\u001B[39m)\n\u001B[0;32m----> 3\u001B[0m \u001B[43mos\u001B[49m\u001B[38;5;241;43m.\u001B[39;49m\u001B[43mmakedirs\u001B[49m\u001B[43m(\u001B[49m\u001B[43mOUT_DIR\u001B[49m\u001B[43m,\u001B[49m\u001B[43m \u001B[49m\u001B[43mexist_ok\u001B[49m\u001B[38;5;241;43m=\u001B[39;49m\u001B[38;5;28;43;01mTrue\u001B[39;49;00m\u001B[43m)\u001B[49m\n",
      "File \u001B[0;32m/Library/Developer/CommandLineTools/Library/Frameworks/Python3.framework/Versions/3.9/lib/python3.9/os.py:215\u001B[0m, in \u001B[0;36mmakedirs\u001B[0;34m(name, mode, exist_ok)\u001B[0m\n\u001B[1;32m    213\u001B[0m \u001B[38;5;28;01mif\u001B[39;00m head \u001B[38;5;129;01mand\u001B[39;00m tail \u001B[38;5;129;01mand\u001B[39;00m \u001B[38;5;129;01mnot\u001B[39;00m path\u001B[38;5;241m.\u001B[39mexists(head):\n\u001B[1;32m    214\u001B[0m     \u001B[38;5;28;01mtry\u001B[39;00m:\n\u001B[0;32m--> 215\u001B[0m         \u001B[43mmakedirs\u001B[49m\u001B[43m(\u001B[49m\u001B[43mhead\u001B[49m\u001B[43m,\u001B[49m\u001B[43m \u001B[49m\u001B[43mexist_ok\u001B[49m\u001B[38;5;241;43m=\u001B[39;49m\u001B[43mexist_ok\u001B[49m\u001B[43m)\u001B[49m\n\u001B[1;32m    216\u001B[0m     \u001B[38;5;28;01mexcept\u001B[39;00m \u001B[38;5;167;01mFileExistsError\u001B[39;00m:\n\u001B[1;32m    217\u001B[0m         \u001B[38;5;66;03m# Defeats race condition when another thread created the path\u001B[39;00m\n\u001B[1;32m    218\u001B[0m         \u001B[38;5;28;01mpass\u001B[39;00m\n",
      "File \u001B[0;32m/Library/Developer/CommandLineTools/Library/Frameworks/Python3.framework/Versions/3.9/lib/python3.9/os.py:215\u001B[0m, in \u001B[0;36mmakedirs\u001B[0;34m(name, mode, exist_ok)\u001B[0m\n\u001B[1;32m    213\u001B[0m \u001B[38;5;28;01mif\u001B[39;00m head \u001B[38;5;129;01mand\u001B[39;00m tail \u001B[38;5;129;01mand\u001B[39;00m \u001B[38;5;129;01mnot\u001B[39;00m path\u001B[38;5;241m.\u001B[39mexists(head):\n\u001B[1;32m    214\u001B[0m     \u001B[38;5;28;01mtry\u001B[39;00m:\n\u001B[0;32m--> 215\u001B[0m         \u001B[43mmakedirs\u001B[49m\u001B[43m(\u001B[49m\u001B[43mhead\u001B[49m\u001B[43m,\u001B[49m\u001B[43m \u001B[49m\u001B[43mexist_ok\u001B[49m\u001B[38;5;241;43m=\u001B[39;49m\u001B[43mexist_ok\u001B[49m\u001B[43m)\u001B[49m\n\u001B[1;32m    216\u001B[0m     \u001B[38;5;28;01mexcept\u001B[39;00m \u001B[38;5;167;01mFileExistsError\u001B[39;00m:\n\u001B[1;32m    217\u001B[0m         \u001B[38;5;66;03m# Defeats race condition when another thread created the path\u001B[39;00m\n\u001B[1;32m    218\u001B[0m         \u001B[38;5;28;01mpass\u001B[39;00m\n",
      "    \u001B[0;31m[... skipping similar frames: makedirs at line 215 (1 times)]\u001B[0m\n",
      "File \u001B[0;32m/Library/Developer/CommandLineTools/Library/Frameworks/Python3.framework/Versions/3.9/lib/python3.9/os.py:215\u001B[0m, in \u001B[0;36mmakedirs\u001B[0;34m(name, mode, exist_ok)\u001B[0m\n\u001B[1;32m    213\u001B[0m \u001B[38;5;28;01mif\u001B[39;00m head \u001B[38;5;129;01mand\u001B[39;00m tail \u001B[38;5;129;01mand\u001B[39;00m \u001B[38;5;129;01mnot\u001B[39;00m path\u001B[38;5;241m.\u001B[39mexists(head):\n\u001B[1;32m    214\u001B[0m     \u001B[38;5;28;01mtry\u001B[39;00m:\n\u001B[0;32m--> 215\u001B[0m         \u001B[43mmakedirs\u001B[49m\u001B[43m(\u001B[49m\u001B[43mhead\u001B[49m\u001B[43m,\u001B[49m\u001B[43m \u001B[49m\u001B[43mexist_ok\u001B[49m\u001B[38;5;241;43m=\u001B[39;49m\u001B[43mexist_ok\u001B[49m\u001B[43m)\u001B[49m\n\u001B[1;32m    216\u001B[0m     \u001B[38;5;28;01mexcept\u001B[39;00m \u001B[38;5;167;01mFileExistsError\u001B[39;00m:\n\u001B[1;32m    217\u001B[0m         \u001B[38;5;66;03m# Defeats race condition when another thread created the path\u001B[39;00m\n\u001B[1;32m    218\u001B[0m         \u001B[38;5;28;01mpass\u001B[39;00m\n",
      "File \u001B[0;32m/Library/Developer/CommandLineTools/Library/Frameworks/Python3.framework/Versions/3.9/lib/python3.9/os.py:225\u001B[0m, in \u001B[0;36mmakedirs\u001B[0;34m(name, mode, exist_ok)\u001B[0m\n\u001B[1;32m    223\u001B[0m         \u001B[38;5;28;01mreturn\u001B[39;00m\n\u001B[1;32m    224\u001B[0m \u001B[38;5;28;01mtry\u001B[39;00m:\n\u001B[0;32m--> 225\u001B[0m     \u001B[43mmkdir\u001B[49m\u001B[43m(\u001B[49m\u001B[43mname\u001B[49m\u001B[43m,\u001B[49m\u001B[43m \u001B[49m\u001B[43mmode\u001B[49m\u001B[43m)\u001B[49m\n\u001B[1;32m    226\u001B[0m \u001B[38;5;28;01mexcept\u001B[39;00m \u001B[38;5;167;01mOSError\u001B[39;00m:\n\u001B[1;32m    227\u001B[0m     \u001B[38;5;66;03m# Cannot rely on checking for EEXIST, since the operating system\u001B[39;00m\n\u001B[1;32m    228\u001B[0m     \u001B[38;5;66;03m# could give priority to other errors like EACCES or EROFS\u001B[39;00m\n\u001B[1;32m    229\u001B[0m     \u001B[38;5;28;01mif\u001B[39;00m \u001B[38;5;129;01mnot\u001B[39;00m exist_ok \u001B[38;5;129;01mor\u001B[39;00m \u001B[38;5;129;01mnot\u001B[39;00m path\u001B[38;5;241m.\u001B[39misdir(name):\n",
      "\u001B[0;31mOSError\u001B[0m: [Errno 30] Read-only file system: '/path'"
     ]
    }
   ],
   "execution_count": 5
  },
  {
   "metadata": {},
   "cell_type": "code",
   "outputs": [],
   "execution_count": null,
   "source": [
    "def main():\n",
    "    for subj in SUBJECTS:\n",
    "        # Создаём BIDSPath\n",
    "        # Смотрите, какие именно \"task\" и \"session\" есть в вашем датасете ds004504\n",
    "        # Часто resting-state называют \"task-rest\" или \"task-eyesopen\"\n",
    "        bids_path = BIDSPath(\n",
    "            subject=subj,\n",
    "            task=\"rest\",       # или другое название из файла, проверьте\n",
    "            suffix=\"eeg\",      # вид файла (eeg)\n",
    "            extension=\".edf\",  # расширение\n",
    "            root=BIDS_ROOT\n",
    "        )\n",
    "\n",
    "        # Читаем raw-данные\n",
    "        print(f\"Reading BIDS data: {bids_path}\")\n",
    "        try:\n",
    "            raw = read_raw_bids(bids_path=bids_path, verbose=False)\n",
    "        except FileNotFoundError:\n",
    "            print(f\"File for subject={subj} not found. Skipping...\")\n",
    "            continue\n",
    "\n",
    "        # Выгружаем сигналы в память\n",
    "        raw.load_data()\n",
    "\n",
    "        # Фильтрация:\n",
    "        print(f\"Filtering data: {L_FREQ}–{H_FREQ} Hz\")\n",
    "        raw.filter(l_freq=L_FREQ, h_freq=H_FREQ)\n",
    "\n",
    "        # Устанавливаем общее среднее (average) реферирование (если это нужно)\n",
    "        # Другие варианты: raw.set_eeg_reference('TP9', 'TP10') для мочек ушей, и т.д.\n",
    "        raw.set_eeg_reference(ref_channels='average', projection=False)\n",
    "\n",
    "        # (Опционально) Дополнительно можно убрать первые X секунд, если там шум\n",
    "        # raw.crop(tmin=5.0)  # например, убрать 5 секунд в начале\n",
    "\n",
    "        # (Опционально) выполнить ICA/ASR и удалить артефакты\n",
    "        # ...\n",
    "\n",
    "        # Сохраняем результат в папку derivatives/filtered_eeg\n",
    "        out_fname = os.path.join(OUT_DIR, f\"sub-{subj}_task-rest_filtered-raw.fif\")\n",
    "        print(f\"Saving filtered data to: {out_fname}\")\n",
    "        raw.save(out_fname, overwrite=True)\n",
    "\n",
    "    print(\"Done filtering!\")\n",
    "\n",
    "if __name__ == \"__main__\":\n",
    "    main()"
   ],
   "id": "962846158e1856a0"
  },
  {
   "metadata": {},
   "cell_type": "code",
   "outputs": [],
   "execution_count": null,
   "source": "",
   "id": "137abd78f9f35b2c"
  }
 ],
 "metadata": {
  "kernelspec": {
   "display_name": "Python 3",
   "language": "python",
   "name": "python3"
  },
  "language_info": {
   "codemirror_mode": {
    "name": "ipython",
    "version": 2
   },
   "file_extension": ".py",
   "mimetype": "text/x-python",
   "name": "python",
   "nbconvert_exporter": "python",
   "pygments_lexer": "ipython2",
   "version": "2.7.6"
  }
 },
 "nbformat": 4,
 "nbformat_minor": 5
}
