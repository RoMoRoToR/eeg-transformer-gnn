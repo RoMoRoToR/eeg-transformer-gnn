{
 "cells": [
  {
   "cell_type": "code",
   "id": "83114582abe05c79",
   "metadata": {
    "ExecuteTime": {
     "end_time": "2025-01-27T14:07:15.504024Z",
     "start_time": "2025-01-27T14:07:15.500764Z"
    }
   },
   "source": [
    "import os\n",
    "import numpy as np\n",
    "import pandas as pd\n",
    "import torch\n",
    "import mne"
   ],
   "outputs": [],
   "execution_count": 31
  },
  {
   "metadata": {
    "ExecuteTime": {
     "end_time": "2025-01-27T14:07:15.511676Z",
     "start_time": "2025-01-27T14:07:15.509634Z"
    }
   },
   "cell_type": "code",
   "source": [
    "# --------------------------------------------------------------------------------\n",
    "# 1) Настройки\n",
    "# --------------------------------------------------------------------------------"
   ],
   "id": "869a01822043cbee",
   "outputs": [],
   "execution_count": 32
  },
  {
   "metadata": {
    "ExecuteTime": {
     "end_time": "2025-01-27T14:07:15.522460Z",
     "start_time": "2025-01-27T14:07:15.519060Z"
    }
   },
   "cell_type": "code",
   "source": [
    "BIDS_ROOT = \"/Users/taniyashuba/PycharmProjects/eeg-transformer-gnn/data/ds004504\"  # <-- Укажите путь к корню датасета (где sub-XXX и participants.tsv)\n",
    "OUT_FILE = \"my_eeg_dataset.pt\"  # <-- Итоговый файл с (X, y)\n",
    "PARTICIPANTS_TSV = \"participants.tsv\"\n",
    "\n",
    "# Частоты фильтра\n",
    "L_FREQ, H_FREQ = 0.5, 45.0  # Обновляем фильтр на 0.5–45 Гц согласно описанию датасета\n",
    "\n",
    "# Настройки ICA\n",
    "DO_ICA = True\n",
    "ICA_NCOMP = 19  # Число компонентов равно количеству каналов\n",
    "\n",
    "# Окна\n",
    "WINDOW_SEC = 5.0  # Используем 5-секундные окна (2500 точек)\n",
    "STEP_SEC = 2.0  # Шаг окна для наложения\n",
    "\n",
    "# Уровни квантования\n",
    "AMP_QUANT_LEVELS = 512  # Улучшенная дискретизация амплитуд\n",
    "\n",
    "# Маппинг групп (A, C, F) -> метки\n",
    "# A: Alzheimer, C: Control, F: \"прочие\" (например, Mild Cognitive Impairment и т.п.)\n",
    "group_map = {\n",
    "    'A': 1,\n",
    "    'F': 2,\n",
    "    'C': 0\n",
    "}\n"
   ],
   "id": "e6fd7975b2a4b376",
   "outputs": [],
   "execution_count": 33
  },
  {
   "metadata": {
    "ExecuteTime": {
     "end_time": "2025-01-27T14:07:15.530671Z",
     "start_time": "2025-01-27T14:07:15.528696Z"
    }
   },
   "cell_type": "code",
   "source": [
    "# --------------------------------------------------------------------------------\n",
    "# 2) Функции\n",
    "# --------------------------------------------------------------------------------"
   ],
   "id": "125c17c9ecae02d",
   "outputs": [],
   "execution_count": 34
  },
  {
   "metadata": {
    "ExecuteTime": {
     "end_time": "2025-01-27T14:07:15.542487Z",
     "start_time": "2025-01-27T14:07:15.536936Z"
    }
   },
   "cell_type": "code",
   "source": [
    "def amplitude_quantization(seg, levels=256):\n",
    "    \"\"\"\n",
    "    Упрощённая скалярная квантизация амплитуд.\n",
    "    seg: (C, T) numpy array\n",
    "    \"\"\"\n",
    "    seg_flat = seg.flatten()\n",
    "    val_min, val_max = seg_flat.min(), seg_flat.max()\n",
    "    if abs(val_min - val_max) < 1e-12:\n",
    "        return np.zeros_like(seg_flat, dtype=int)\n",
    "    seg_norm = (seg_flat - val_min) / (val_max - val_min)\n",
    "    seg_q = np.floor(seg_norm * levels).astype(int)\n",
    "    seg_q = np.clip(seg_q, 0, levels - 1)\n",
    "    return seg_q\n",
    "\n",
    "\n",
    "def process_one_subject(set_fname, l_freq=0.5, h_freq=45.0, do_ica=True, ica_ncomp=19):\n",
    "    \"\"\"\n",
    "    Открытие и предварительная обработка EEG-данных.\n",
    "    \"\"\"\n",
    "    print(f\"Loading: {set_fname}\")\n",
    "    raw = mne.io.read_raw_eeglab(set_fname, preload=True)\n",
    "\n",
    "    # Применение фильтрации\n",
    "    print(f\"Filtering {l_freq}–{h_freq} Hz\")\n",
    "    raw.filter(l_freq=l_freq, h_freq=h_freq)\n",
    "    raw.set_eeg_reference(['A1', 'A2'])  # Перереференцирование\n",
    "\n",
    "    # Установка монтажной схемы 10-20\n",
    "    montage = mne.channels.make_standard_montage('standard_1020')\n",
    "    raw.set_montage(montage)\n",
    "\n",
    "    if do_ica:\n",
    "        print(f\"Applying ICA with {ica_ncomp} components.\")\n",
    "        ica = mne.preprocessing.ICA(n_components=ica_ncomp, random_state=42)\n",
    "        ica.fit(raw)\n",
    "        raw = ica.apply(raw, exclude=[0, 1])  # Исключаем компоненты, соответствующие артефактам\n",
    "\n",
    "    return raw\n",
    "\n",
    "\n",
    "\n",
    "def segment_and_quantize(raw, win_sec=2.0, step_sec=1.0, levels=256):\n",
    "    \"\"\"\n",
    "    Нарезка на окна + квантование.\n",
    "    \"\"\"\n",
    "    sfreq = raw.info['sfreq']\n",
    "    data = raw.get_data()  # (C, N)\n",
    "    n_times = data.shape[1]\n",
    "\n",
    "    win_samps = int(win_sec * sfreq)\n",
    "    step_samps = int(step_sec * sfreq)\n",
    "\n",
    "    segments = []\n",
    "    start = 0\n",
    "    while (start + win_samps) <= n_times:\n",
    "        seg = data[:, start:start + win_samps]  # (C, T)\n",
    "        seg_q = amplitude_quantization(seg, levels=levels)\n",
    "        segments.append(seg_q)\n",
    "        start += step_samps\n",
    "    return segments\n"
   ],
   "id": "f5a5d09b66d5c25d",
   "outputs": [],
   "execution_count": 35
  },
  {
   "metadata": {
    "ExecuteTime": {
     "end_time": "2025-01-27T14:07:15.553907Z",
     "start_time": "2025-01-27T14:07:15.552101Z"
    }
   },
   "cell_type": "code",
   "source": [
    "# --------------------------------------------------------------------------------\n",
    "# 3) Основной скрипт\n",
    "# --------------------------------------------------------------------------------"
   ],
   "id": "78c1002596e50728",
   "outputs": [],
   "execution_count": 36
  },
  {
   "metadata": {
    "collapsed": true,
    "ExecuteTime": {
     "end_time": "2025-01-27T14:07:20.058536Z",
     "start_time": "2025-01-27T14:07:15.570964Z"
    }
   },
   "cell_type": "code",
   "source": [
    "def main():\n",
    "    part_tsv = os.path.join(BIDS_ROOT, PARTICIPANTS_TSV)\n",
    "    if not os.path.isfile(part_tsv):\n",
    "        raise FileNotFoundError(f\"Не найден {part_tsv}\")\n",
    "    participants_df = pd.read_csv(part_tsv, sep='\\t')\n",
    "\n",
    "    all_X = []\n",
    "    all_y = []\n",
    "\n",
    "    for idx, row in participants_df.iterrows():\n",
    "        subj_id = row['participant_id']\n",
    "        group = row['Group']\n",
    "        if group not in group_map:\n",
    "            print(f\"Пропускаем {subj_id}: неизвестная группа '{group}'.\")\n",
    "            continue\n",
    "        label = group_map[group]\n",
    "\n",
    "        sub_folder = os.path.join(BIDS_ROOT, \"derivatives\", subj_id, \"eeg\")\n",
    "        task_list = [\"eyesclosed\", \"eyesopen\"]\n",
    "\n",
    "        for task in task_list:\n",
    "            set_fname = os.path.join(sub_folder, f\"{subj_id}_task-{task}_eeg.set\")\n",
    "            if not os.path.isfile(set_fname):\n",
    "                print(f\"Нет файла: {set_fname}, пропускаем задачу {task}.\")\n",
    "                continue\n",
    "\n",
    "            try:\n",
    "                raw = process_one_subject(\n",
    "                    set_fname, l_freq=L_FREQ, h_freq=H_FREQ, do_ica=DO_ICA, ica_ncomp=ICA_NCOMP\n",
    "                )\n",
    "                seg_list = segment_and_quantize(raw, win_sec=WINDOW_SEC, step_sec=STEP_SEC, levels=AMP_QUANT_LEVELS)\n",
    "\n",
    "                for seg_q in seg_list:\n",
    "                    all_X.append(seg_q)\n",
    "                    all_y.append(label)\n",
    "\n",
    "                print(f\"{subj_id}, {task}: {len(seg_list)} окон. Группа={group} -> label={label}\")\n",
    "            except Exception as ex:\n",
    "                print(f\"Ошибка subj={subj_id}, task={task}: {ex}\")\n",
    "                continue\n",
    "\n",
    "\n",
    "    if len(all_X) == 0:\n",
    "        print(\"Нет данных для сохранения. all_X пуст.\")\n",
    "        return\n",
    "\n",
    "    X_array = np.stack(all_X, axis=0)\n",
    "    X_tensor = torch.from_numpy(X_array).long()\n",
    "    y_tensor = torch.tensor(all_y, dtype=torch.long)\n",
    "\n",
    "    print(f\"\\nИтого всего окон: {X_tensor.shape[0]}\")\n",
    "    print(f\"Размер одного сегмента: {X_tensor.shape[1]} (C*T)\")\n",
    "    print(\"Пример меток (y):\", set(y_tensor.tolist()))\n",
    "\n",
    "    out_path = os.path.join(BIDS_ROOT, OUT_FILE)\n",
    "    torch.save((X_tensor, y_tensor), out_path)\n",
    "    print(f\"\\nСохранено: {out_path}\")\n",
    "\n",
    "\n",
    "if __name__ == \"__main__\":\n",
    "    main()\n"
   ],
   "id": "initial_id",
   "outputs": [
    {
     "name": "stdout",
     "output_type": "stream",
     "text": [
      "Loading: /Users/taniyashuba/PycharmProjects/eeg-transformer-gnn/data/ds004504/derivatives/sub-001/eeg/sub-001_task-eyesclosed_eeg.set\n",
      "Ошибка subj=/Users/taniyashuba/PycharmProjects/eeg-transformer-gnn/data/ds004504/derivatives/sub-001/eeg/sub-001_task-eyesclosed_eeg.set: отсутствуют необходимые каналы ['A1', 'A2']\n",
      "Ошибка subj=sub-001, task=eyesclosed: 'NoneType' object has no attribute 'info'\n",
      "Нет файла: /Users/taniyashuba/PycharmProjects/eeg-transformer-gnn/data/ds004504/derivatives/sub-001/eeg/sub-001_task-eyesopen_eeg.set, пропускаем задачу eyesopen.\n",
      "Loading: /Users/taniyashuba/PycharmProjects/eeg-transformer-gnn/data/ds004504/derivatives/sub-002/eeg/sub-002_task-eyesclosed_eeg.set\n",
      "Ошибка subj=/Users/taniyashuba/PycharmProjects/eeg-transformer-gnn/data/ds004504/derivatives/sub-002/eeg/sub-002_task-eyesclosed_eeg.set: отсутствуют необходимые каналы ['A1', 'A2']\n",
      "Ошибка subj=sub-002, task=eyesclosed: 'NoneType' object has no attribute 'info'\n",
      "Нет файла: /Users/taniyashuba/PycharmProjects/eeg-transformer-gnn/data/ds004504/derivatives/sub-002/eeg/sub-002_task-eyesopen_eeg.set, пропускаем задачу eyesopen.\n",
      "Loading: /Users/taniyashuba/PycharmProjects/eeg-transformer-gnn/data/ds004504/derivatives/sub-003/eeg/sub-003_task-eyesclosed_eeg.set\n",
      "Ошибка subj=/Users/taniyashuba/PycharmProjects/eeg-transformer-gnn/data/ds004504/derivatives/sub-003/eeg/sub-003_task-eyesclosed_eeg.set: отсутствуют необходимые каналы ['A1', 'A2']\n",
      "Ошибка subj=sub-003, task=eyesclosed: 'NoneType' object has no attribute 'info'\n",
      "Нет файла: /Users/taniyashuba/PycharmProjects/eeg-transformer-gnn/data/ds004504/derivatives/sub-003/eeg/sub-003_task-eyesopen_eeg.set, пропускаем задачу eyesopen.\n",
      "Loading: /Users/taniyashuba/PycharmProjects/eeg-transformer-gnn/data/ds004504/derivatives/sub-004/eeg/sub-004_task-eyesclosed_eeg.set\n",
      "Ошибка subj=/Users/taniyashuba/PycharmProjects/eeg-transformer-gnn/data/ds004504/derivatives/sub-004/eeg/sub-004_task-eyesclosed_eeg.set: отсутствуют необходимые каналы ['A1', 'A2']\n",
      "Ошибка subj=sub-004, task=eyesclosed: 'NoneType' object has no attribute 'info'\n",
      "Нет файла: /Users/taniyashuba/PycharmProjects/eeg-transformer-gnn/data/ds004504/derivatives/sub-004/eeg/sub-004_task-eyesopen_eeg.set, пропускаем задачу eyesopen.\n",
      "Loading: /Users/taniyashuba/PycharmProjects/eeg-transformer-gnn/data/ds004504/derivatives/sub-005/eeg/sub-005_task-eyesclosed_eeg.set\n",
      "Ошибка subj=/Users/taniyashuba/PycharmProjects/eeg-transformer-gnn/data/ds004504/derivatives/sub-005/eeg/sub-005_task-eyesclosed_eeg.set: отсутствуют необходимые каналы ['A1', 'A2']\n",
      "Ошибка subj=sub-005, task=eyesclosed: 'NoneType' object has no attribute 'info'\n",
      "Нет файла: /Users/taniyashuba/PycharmProjects/eeg-transformer-gnn/data/ds004504/derivatives/sub-005/eeg/sub-005_task-eyesopen_eeg.set, пропускаем задачу eyesopen.\n",
      "Loading: /Users/taniyashuba/PycharmProjects/eeg-transformer-gnn/data/ds004504/derivatives/sub-006/eeg/sub-006_task-eyesclosed_eeg.set\n"
     ]
    },
    {
     "name": "stderr",
     "output_type": "stream",
     "text": [
      "/var/folders/87/d35_l8056xbbpvj6g4knhvsm0000gn/T/ipykernel_8684/2802821301.py:21: RuntimeWarning: The data contains 'boundary' events, indicating data discontinuities. Be cautious of filtering and epoching around these events.\n",
      "  raw = mne.io.read_raw_eeglab(set_fname, preload=True)\n",
      "/var/folders/87/d35_l8056xbbpvj6g4knhvsm0000gn/T/ipykernel_8684/2802821301.py:21: RuntimeWarning: The data contains 'boundary' events, indicating data discontinuities. Be cautious of filtering and epoching around these events.\n",
      "  raw = mne.io.read_raw_eeglab(set_fname, preload=True)\n",
      "/var/folders/87/d35_l8056xbbpvj6g4knhvsm0000gn/T/ipykernel_8684/2802821301.py:21: RuntimeWarning: The data contains 'boundary' events, indicating data discontinuities. Be cautious of filtering and epoching around these events.\n",
      "  raw = mne.io.read_raw_eeglab(set_fname, preload=True)\n",
      "/var/folders/87/d35_l8056xbbpvj6g4knhvsm0000gn/T/ipykernel_8684/2802821301.py:21: RuntimeWarning: The data contains 'boundary' events, indicating data discontinuities. Be cautious of filtering and epoching around these events.\n",
      "  raw = mne.io.read_raw_eeglab(set_fname, preload=True)\n"
     ]
    },
    {
     "name": "stdout",
     "output_type": "stream",
     "text": [
      "Ошибка subj=/Users/taniyashuba/PycharmProjects/eeg-transformer-gnn/data/ds004504/derivatives/sub-006/eeg/sub-006_task-eyesclosed_eeg.set: отсутствуют необходимые каналы ['A1', 'A2']\n",
      "Ошибка subj=sub-006, task=eyesclosed: 'NoneType' object has no attribute 'info'\n",
      "Нет файла: /Users/taniyashuba/PycharmProjects/eeg-transformer-gnn/data/ds004504/derivatives/sub-006/eeg/sub-006_task-eyesopen_eeg.set, пропускаем задачу eyesopen.\n",
      "Loading: /Users/taniyashuba/PycharmProjects/eeg-transformer-gnn/data/ds004504/derivatives/sub-007/eeg/sub-007_task-eyesclosed_eeg.set\n",
      "Ошибка subj=/Users/taniyashuba/PycharmProjects/eeg-transformer-gnn/data/ds004504/derivatives/sub-007/eeg/sub-007_task-eyesclosed_eeg.set: отсутствуют необходимые каналы ['A1', 'A2']\n",
      "Ошибка subj=sub-007, task=eyesclosed: 'NoneType' object has no attribute 'info'\n",
      "Нет файла: /Users/taniyashuba/PycharmProjects/eeg-transformer-gnn/data/ds004504/derivatives/sub-007/eeg/sub-007_task-eyesopen_eeg.set, пропускаем задачу eyesopen.\n",
      "Loading: /Users/taniyashuba/PycharmProjects/eeg-transformer-gnn/data/ds004504/derivatives/sub-008/eeg/sub-008_task-eyesclosed_eeg.set\n",
      "Ошибка subj=/Users/taniyashuba/PycharmProjects/eeg-transformer-gnn/data/ds004504/derivatives/sub-008/eeg/sub-008_task-eyesclosed_eeg.set: отсутствуют необходимые каналы ['A1', 'A2']\n",
      "Ошибка subj=sub-008, task=eyesclosed: 'NoneType' object has no attribute 'info'\n",
      "Нет файла: /Users/taniyashuba/PycharmProjects/eeg-transformer-gnn/data/ds004504/derivatives/sub-008/eeg/sub-008_task-eyesopen_eeg.set, пропускаем задачу eyesopen.\n",
      "Loading: /Users/taniyashuba/PycharmProjects/eeg-transformer-gnn/data/ds004504/derivatives/sub-009/eeg/sub-009_task-eyesclosed_eeg.set\n",
      "Ошибка subj=/Users/taniyashuba/PycharmProjects/eeg-transformer-gnn/data/ds004504/derivatives/sub-009/eeg/sub-009_task-eyesclosed_eeg.set: отсутствуют необходимые каналы ['A1', 'A2']\n",
      "Ошибка subj=sub-009, task=eyesclosed: 'NoneType' object has no attribute 'info'\n",
      "Нет файла: /Users/taniyashuba/PycharmProjects/eeg-transformer-gnn/data/ds004504/derivatives/sub-009/eeg/sub-009_task-eyesopen_eeg.set, пропускаем задачу eyesopen.\n",
      "Loading: /Users/taniyashuba/PycharmProjects/eeg-transformer-gnn/data/ds004504/derivatives/sub-010/eeg/sub-010_task-eyesclosed_eeg.set\n"
     ]
    },
    {
     "name": "stderr",
     "output_type": "stream",
     "text": [
      "/var/folders/87/d35_l8056xbbpvj6g4knhvsm0000gn/T/ipykernel_8684/2802821301.py:21: RuntimeWarning: The data contains 'boundary' events, indicating data discontinuities. Be cautious of filtering and epoching around these events.\n",
      "  raw = mne.io.read_raw_eeglab(set_fname, preload=True)\n",
      "/var/folders/87/d35_l8056xbbpvj6g4knhvsm0000gn/T/ipykernel_8684/2802821301.py:21: RuntimeWarning: The data contains 'boundary' events, indicating data discontinuities. Be cautious of filtering and epoching around these events.\n",
      "  raw = mne.io.read_raw_eeglab(set_fname, preload=True)\n",
      "/var/folders/87/d35_l8056xbbpvj6g4knhvsm0000gn/T/ipykernel_8684/2802821301.py:21: RuntimeWarning: The data contains 'boundary' events, indicating data discontinuities. Be cautious of filtering and epoching around these events.\n",
      "  raw = mne.io.read_raw_eeglab(set_fname, preload=True)\n",
      "/var/folders/87/d35_l8056xbbpvj6g4knhvsm0000gn/T/ipykernel_8684/2802821301.py:21: RuntimeWarning: The data contains 'boundary' events, indicating data discontinuities. Be cautious of filtering and epoching around these events.\n",
      "  raw = mne.io.read_raw_eeglab(set_fname, preload=True)\n"
     ]
    },
    {
     "name": "stdout",
     "output_type": "stream",
     "text": [
      "Ошибка subj=/Users/taniyashuba/PycharmProjects/eeg-transformer-gnn/data/ds004504/derivatives/sub-010/eeg/sub-010_task-eyesclosed_eeg.set: отсутствуют необходимые каналы ['A1', 'A2']\n",
      "Ошибка subj=sub-010, task=eyesclosed: 'NoneType' object has no attribute 'info'\n",
      "Нет файла: /Users/taniyashuba/PycharmProjects/eeg-transformer-gnn/data/ds004504/derivatives/sub-010/eeg/sub-010_task-eyesopen_eeg.set, пропускаем задачу eyesopen.\n",
      "Loading: /Users/taniyashuba/PycharmProjects/eeg-transformer-gnn/data/ds004504/derivatives/sub-011/eeg/sub-011_task-eyesclosed_eeg.set\n",
      "Ошибка subj=/Users/taniyashuba/PycharmProjects/eeg-transformer-gnn/data/ds004504/derivatives/sub-011/eeg/sub-011_task-eyesclosed_eeg.set: отсутствуют необходимые каналы ['A1', 'A2']\n",
      "Ошибка subj=sub-011, task=eyesclosed: 'NoneType' object has no attribute 'info'\n",
      "Нет файла: /Users/taniyashuba/PycharmProjects/eeg-transformer-gnn/data/ds004504/derivatives/sub-011/eeg/sub-011_task-eyesopen_eeg.set, пропускаем задачу eyesopen.\n",
      "Loading: /Users/taniyashuba/PycharmProjects/eeg-transformer-gnn/data/ds004504/derivatives/sub-012/eeg/sub-012_task-eyesclosed_eeg.set\n",
      "Ошибка subj=/Users/taniyashuba/PycharmProjects/eeg-transformer-gnn/data/ds004504/derivatives/sub-012/eeg/sub-012_task-eyesclosed_eeg.set: отсутствуют необходимые каналы ['A1', 'A2']\n",
      "Ошибка subj=sub-012, task=eyesclosed: 'NoneType' object has no attribute 'info'\n",
      "Нет файла: /Users/taniyashuba/PycharmProjects/eeg-transformer-gnn/data/ds004504/derivatives/sub-012/eeg/sub-012_task-eyesopen_eeg.set, пропускаем задачу eyesopen.\n",
      "Loading: /Users/taniyashuba/PycharmProjects/eeg-transformer-gnn/data/ds004504/derivatives/sub-013/eeg/sub-013_task-eyesclosed_eeg.set\n",
      "Ошибка subj=/Users/taniyashuba/PycharmProjects/eeg-transformer-gnn/data/ds004504/derivatives/sub-013/eeg/sub-013_task-eyesclosed_eeg.set: отсутствуют необходимые каналы ['A1', 'A2']\n",
      "Ошибка subj=sub-013, task=eyesclosed: 'NoneType' object has no attribute 'info'\n",
      "Нет файла: /Users/taniyashuba/PycharmProjects/eeg-transformer-gnn/data/ds004504/derivatives/sub-013/eeg/sub-013_task-eyesopen_eeg.set, пропускаем задачу eyesopen.\n",
      "Loading: /Users/taniyashuba/PycharmProjects/eeg-transformer-gnn/data/ds004504/derivatives/sub-014/eeg/sub-014_task-eyesclosed_eeg.set\n"
     ]
    },
    {
     "name": "stderr",
     "output_type": "stream",
     "text": [
      "/var/folders/87/d35_l8056xbbpvj6g4knhvsm0000gn/T/ipykernel_8684/2802821301.py:21: RuntimeWarning: The data contains 'boundary' events, indicating data discontinuities. Be cautious of filtering and epoching around these events.\n",
      "  raw = mne.io.read_raw_eeglab(set_fname, preload=True)\n",
      "/var/folders/87/d35_l8056xbbpvj6g4knhvsm0000gn/T/ipykernel_8684/2802821301.py:21: RuntimeWarning: The data contains 'boundary' events, indicating data discontinuities. Be cautious of filtering and epoching around these events.\n",
      "  raw = mne.io.read_raw_eeglab(set_fname, preload=True)\n",
      "/var/folders/87/d35_l8056xbbpvj6g4knhvsm0000gn/T/ipykernel_8684/2802821301.py:21: RuntimeWarning: The data contains 'boundary' events, indicating data discontinuities. Be cautious of filtering and epoching around these events.\n",
      "  raw = mne.io.read_raw_eeglab(set_fname, preload=True)\n",
      "/var/folders/87/d35_l8056xbbpvj6g4knhvsm0000gn/T/ipykernel_8684/2802821301.py:21: RuntimeWarning: The data contains 'boundary' events, indicating data discontinuities. Be cautious of filtering and epoching around these events.\n",
      "  raw = mne.io.read_raw_eeglab(set_fname, preload=True)\n"
     ]
    },
    {
     "name": "stdout",
     "output_type": "stream",
     "text": [
      "Ошибка subj=/Users/taniyashuba/PycharmProjects/eeg-transformer-gnn/data/ds004504/derivatives/sub-014/eeg/sub-014_task-eyesclosed_eeg.set: отсутствуют необходимые каналы ['A1', 'A2']\n",
      "Ошибка subj=sub-014, task=eyesclosed: 'NoneType' object has no attribute 'info'\n",
      "Нет файла: /Users/taniyashuba/PycharmProjects/eeg-transformer-gnn/data/ds004504/derivatives/sub-014/eeg/sub-014_task-eyesopen_eeg.set, пропускаем задачу eyesopen.\n",
      "Loading: /Users/taniyashuba/PycharmProjects/eeg-transformer-gnn/data/ds004504/derivatives/sub-015/eeg/sub-015_task-eyesclosed_eeg.set\n",
      "Ошибка subj=/Users/taniyashuba/PycharmProjects/eeg-transformer-gnn/data/ds004504/derivatives/sub-015/eeg/sub-015_task-eyesclosed_eeg.set: отсутствуют необходимые каналы ['A1', 'A2']\n",
      "Ошибка subj=sub-015, task=eyesclosed: 'NoneType' object has no attribute 'info'\n",
      "Нет файла: /Users/taniyashuba/PycharmProjects/eeg-transformer-gnn/data/ds004504/derivatives/sub-015/eeg/sub-015_task-eyesopen_eeg.set, пропускаем задачу eyesopen.\n",
      "Loading: /Users/taniyashuba/PycharmProjects/eeg-transformer-gnn/data/ds004504/derivatives/sub-016/eeg/sub-016_task-eyesclosed_eeg.set\n",
      "Ошибка subj=/Users/taniyashuba/PycharmProjects/eeg-transformer-gnn/data/ds004504/derivatives/sub-016/eeg/sub-016_task-eyesclosed_eeg.set: отсутствуют необходимые каналы ['A1', 'A2']\n",
      "Ошибка subj=sub-016, task=eyesclosed: 'NoneType' object has no attribute 'info'\n",
      "Нет файла: /Users/taniyashuba/PycharmProjects/eeg-transformer-gnn/data/ds004504/derivatives/sub-016/eeg/sub-016_task-eyesopen_eeg.set, пропускаем задачу eyesopen.\n",
      "Loading: /Users/taniyashuba/PycharmProjects/eeg-transformer-gnn/data/ds004504/derivatives/sub-017/eeg/sub-017_task-eyesclosed_eeg.set\n",
      "Ошибка subj=/Users/taniyashuba/PycharmProjects/eeg-transformer-gnn/data/ds004504/derivatives/sub-017/eeg/sub-017_task-eyesclosed_eeg.set: отсутствуют необходимые каналы ['A1', 'A2']\n",
      "Ошибка subj=sub-017, task=eyesclosed: 'NoneType' object has no attribute 'info'\n",
      "Нет файла: /Users/taniyashuba/PycharmProjects/eeg-transformer-gnn/data/ds004504/derivatives/sub-017/eeg/sub-017_task-eyesopen_eeg.set, пропускаем задачу eyesopen.\n",
      "Loading: /Users/taniyashuba/PycharmProjects/eeg-transformer-gnn/data/ds004504/derivatives/sub-018/eeg/sub-018_task-eyesclosed_eeg.set\n"
     ]
    },
    {
     "name": "stderr",
     "output_type": "stream",
     "text": [
      "/var/folders/87/d35_l8056xbbpvj6g4knhvsm0000gn/T/ipykernel_8684/2802821301.py:21: RuntimeWarning: The data contains 'boundary' events, indicating data discontinuities. Be cautious of filtering and epoching around these events.\n",
      "  raw = mne.io.read_raw_eeglab(set_fname, preload=True)\n",
      "/var/folders/87/d35_l8056xbbpvj6g4knhvsm0000gn/T/ipykernel_8684/2802821301.py:21: RuntimeWarning: The data contains 'boundary' events, indicating data discontinuities. Be cautious of filtering and epoching around these events.\n",
      "  raw = mne.io.read_raw_eeglab(set_fname, preload=True)\n",
      "/var/folders/87/d35_l8056xbbpvj6g4knhvsm0000gn/T/ipykernel_8684/2802821301.py:21: RuntimeWarning: The data contains 'boundary' events, indicating data discontinuities. Be cautious of filtering and epoching around these events.\n",
      "  raw = mne.io.read_raw_eeglab(set_fname, preload=True)\n",
      "/var/folders/87/d35_l8056xbbpvj6g4knhvsm0000gn/T/ipykernel_8684/2802821301.py:21: RuntimeWarning: The data contains 'boundary' events, indicating data discontinuities. Be cautious of filtering and epoching around these events.\n",
      "  raw = mne.io.read_raw_eeglab(set_fname, preload=True)\n"
     ]
    },
    {
     "name": "stdout",
     "output_type": "stream",
     "text": [
      "Ошибка subj=/Users/taniyashuba/PycharmProjects/eeg-transformer-gnn/data/ds004504/derivatives/sub-018/eeg/sub-018_task-eyesclosed_eeg.set: отсутствуют необходимые каналы ['A1', 'A2']\n",
      "Ошибка subj=sub-018, task=eyesclosed: 'NoneType' object has no attribute 'info'\n",
      "Нет файла: /Users/taniyashuba/PycharmProjects/eeg-transformer-gnn/data/ds004504/derivatives/sub-018/eeg/sub-018_task-eyesopen_eeg.set, пропускаем задачу eyesopen.\n",
      "Loading: /Users/taniyashuba/PycharmProjects/eeg-transformer-gnn/data/ds004504/derivatives/sub-019/eeg/sub-019_task-eyesclosed_eeg.set\n",
      "Ошибка subj=/Users/taniyashuba/PycharmProjects/eeg-transformer-gnn/data/ds004504/derivatives/sub-019/eeg/sub-019_task-eyesclosed_eeg.set: отсутствуют необходимые каналы ['A1', 'A2']\n",
      "Ошибка subj=sub-019, task=eyesclosed: 'NoneType' object has no attribute 'info'\n",
      "Нет файла: /Users/taniyashuba/PycharmProjects/eeg-transformer-gnn/data/ds004504/derivatives/sub-019/eeg/sub-019_task-eyesopen_eeg.set, пропускаем задачу eyesopen.\n",
      "Loading: /Users/taniyashuba/PycharmProjects/eeg-transformer-gnn/data/ds004504/derivatives/sub-020/eeg/sub-020_task-eyesclosed_eeg.set\n",
      "Ошибка subj=/Users/taniyashuba/PycharmProjects/eeg-transformer-gnn/data/ds004504/derivatives/sub-020/eeg/sub-020_task-eyesclosed_eeg.set: отсутствуют необходимые каналы ['A1', 'A2']\n",
      "Ошибка subj=sub-020, task=eyesclosed: 'NoneType' object has no attribute 'info'\n",
      "Нет файла: /Users/taniyashuba/PycharmProjects/eeg-transformer-gnn/data/ds004504/derivatives/sub-020/eeg/sub-020_task-eyesopen_eeg.set, пропускаем задачу eyesopen.\n",
      "Loading: /Users/taniyashuba/PycharmProjects/eeg-transformer-gnn/data/ds004504/derivatives/sub-021/eeg/sub-021_task-eyesclosed_eeg.set\n",
      "Ошибка subj=/Users/taniyashuba/PycharmProjects/eeg-transformer-gnn/data/ds004504/derivatives/sub-021/eeg/sub-021_task-eyesclosed_eeg.set: отсутствуют необходимые каналы ['A1', 'A2']\n",
      "Ошибка subj=sub-021, task=eyesclosed: 'NoneType' object has no attribute 'info'\n",
      "Нет файла: /Users/taniyashuba/PycharmProjects/eeg-transformer-gnn/data/ds004504/derivatives/sub-021/eeg/sub-021_task-eyesopen_eeg.set, пропускаем задачу eyesopen.\n",
      "Loading: /Users/taniyashuba/PycharmProjects/eeg-transformer-gnn/data/ds004504/derivatives/sub-022/eeg/sub-022_task-eyesclosed_eeg.set\n",
      "Ошибка subj=/Users/taniyashuba/PycharmProjects/eeg-transformer-gnn/data/ds004504/derivatives/sub-022/eeg/sub-022_task-eyesclosed_eeg.set: отсутствуют необходимые каналы ['A1', 'A2']\n",
      "Ошибка subj=sub-022, task=eyesclosed: 'NoneType' object has no attribute 'info'\n",
      "Нет файла: /Users/taniyashuba/PycharmProjects/eeg-transformer-gnn/data/ds004504/derivatives/sub-022/eeg/sub-022_task-eyesopen_eeg.set, пропускаем задачу eyesopen.\n"
     ]
    },
    {
     "name": "stderr",
     "output_type": "stream",
     "text": [
      "/var/folders/87/d35_l8056xbbpvj6g4knhvsm0000gn/T/ipykernel_8684/2802821301.py:21: RuntimeWarning: The data contains 'boundary' events, indicating data discontinuities. Be cautious of filtering and epoching around these events.\n",
      "  raw = mne.io.read_raw_eeglab(set_fname, preload=True)\n",
      "/var/folders/87/d35_l8056xbbpvj6g4knhvsm0000gn/T/ipykernel_8684/2802821301.py:21: RuntimeWarning: The data contains 'boundary' events, indicating data discontinuities. Be cautious of filtering and epoching around these events.\n",
      "  raw = mne.io.read_raw_eeglab(set_fname, preload=True)\n",
      "/var/folders/87/d35_l8056xbbpvj6g4knhvsm0000gn/T/ipykernel_8684/2802821301.py:21: RuntimeWarning: The data contains 'boundary' events, indicating data discontinuities. Be cautious of filtering and epoching around these events.\n",
      "  raw = mne.io.read_raw_eeglab(set_fname, preload=True)\n",
      "/var/folders/87/d35_l8056xbbpvj6g4knhvsm0000gn/T/ipykernel_8684/2802821301.py:21: RuntimeWarning: The data contains 'boundary' events, indicating data discontinuities. Be cautious of filtering and epoching around these events.\n",
      "  raw = mne.io.read_raw_eeglab(set_fname, preload=True)\n"
     ]
    },
    {
     "name": "stdout",
     "output_type": "stream",
     "text": [
      "Loading: /Users/taniyashuba/PycharmProjects/eeg-transformer-gnn/data/ds004504/derivatives/sub-023/eeg/sub-023_task-eyesclosed_eeg.set\n",
      "Ошибка subj=/Users/taniyashuba/PycharmProjects/eeg-transformer-gnn/data/ds004504/derivatives/sub-023/eeg/sub-023_task-eyesclosed_eeg.set: отсутствуют необходимые каналы ['A1', 'A2']\n",
      "Ошибка subj=sub-023, task=eyesclosed: 'NoneType' object has no attribute 'info'\n",
      "Нет файла: /Users/taniyashuba/PycharmProjects/eeg-transformer-gnn/data/ds004504/derivatives/sub-023/eeg/sub-023_task-eyesopen_eeg.set, пропускаем задачу eyesopen.\n",
      "Loading: /Users/taniyashuba/PycharmProjects/eeg-transformer-gnn/data/ds004504/derivatives/sub-024/eeg/sub-024_task-eyesclosed_eeg.set\n",
      "Ошибка subj=/Users/taniyashuba/PycharmProjects/eeg-transformer-gnn/data/ds004504/derivatives/sub-024/eeg/sub-024_task-eyesclosed_eeg.set: отсутствуют необходимые каналы ['A1', 'A2']\n",
      "Ошибка subj=sub-024, task=eyesclosed: 'NoneType' object has no attribute 'info'\n",
      "Нет файла: /Users/taniyashuba/PycharmProjects/eeg-transformer-gnn/data/ds004504/derivatives/sub-024/eeg/sub-024_task-eyesopen_eeg.set, пропускаем задачу eyesopen.\n",
      "Loading: /Users/taniyashuba/PycharmProjects/eeg-transformer-gnn/data/ds004504/derivatives/sub-025/eeg/sub-025_task-eyesclosed_eeg.set\n",
      "Ошибка subj=/Users/taniyashuba/PycharmProjects/eeg-transformer-gnn/data/ds004504/derivatives/sub-025/eeg/sub-025_task-eyesclosed_eeg.set: отсутствуют необходимые каналы ['A1', 'A2']\n",
      "Ошибка subj=sub-025, task=eyesclosed: 'NoneType' object has no attribute 'info'\n",
      "Нет файла: /Users/taniyashuba/PycharmProjects/eeg-transformer-gnn/data/ds004504/derivatives/sub-025/eeg/sub-025_task-eyesopen_eeg.set, пропускаем задачу eyesopen.\n",
      "Loading: /Users/taniyashuba/PycharmProjects/eeg-transformer-gnn/data/ds004504/derivatives/sub-026/eeg/sub-026_task-eyesclosed_eeg.set\n"
     ]
    },
    {
     "name": "stderr",
     "output_type": "stream",
     "text": [
      "/var/folders/87/d35_l8056xbbpvj6g4knhvsm0000gn/T/ipykernel_8684/2802821301.py:21: RuntimeWarning: The data contains 'boundary' events, indicating data discontinuities. Be cautious of filtering and epoching around these events.\n",
      "  raw = mne.io.read_raw_eeglab(set_fname, preload=True)\n",
      "/var/folders/87/d35_l8056xbbpvj6g4knhvsm0000gn/T/ipykernel_8684/2802821301.py:21: RuntimeWarning: The data contains 'boundary' events, indicating data discontinuities. Be cautious of filtering and epoching around these events.\n",
      "  raw = mne.io.read_raw_eeglab(set_fname, preload=True)\n",
      "/var/folders/87/d35_l8056xbbpvj6g4knhvsm0000gn/T/ipykernel_8684/2802821301.py:21: RuntimeWarning: The data contains 'boundary' events, indicating data discontinuities. Be cautious of filtering and epoching around these events.\n",
      "  raw = mne.io.read_raw_eeglab(set_fname, preload=True)\n",
      "/var/folders/87/d35_l8056xbbpvj6g4knhvsm0000gn/T/ipykernel_8684/2802821301.py:21: RuntimeWarning: The data contains 'boundary' events, indicating data discontinuities. Be cautious of filtering and epoching around these events.\n",
      "  raw = mne.io.read_raw_eeglab(set_fname, preload=True)\n"
     ]
    },
    {
     "name": "stdout",
     "output_type": "stream",
     "text": [
      "Ошибка subj=/Users/taniyashuba/PycharmProjects/eeg-transformer-gnn/data/ds004504/derivatives/sub-026/eeg/sub-026_task-eyesclosed_eeg.set: отсутствуют необходимые каналы ['A1', 'A2']\n",
      "Ошибка subj=sub-026, task=eyesclosed: 'NoneType' object has no attribute 'info'\n",
      "Нет файла: /Users/taniyashuba/PycharmProjects/eeg-transformer-gnn/data/ds004504/derivatives/sub-026/eeg/sub-026_task-eyesopen_eeg.set, пропускаем задачу eyesopen.\n",
      "Loading: /Users/taniyashuba/PycharmProjects/eeg-transformer-gnn/data/ds004504/derivatives/sub-027/eeg/sub-027_task-eyesclosed_eeg.set\n",
      "Ошибка subj=/Users/taniyashuba/PycharmProjects/eeg-transformer-gnn/data/ds004504/derivatives/sub-027/eeg/sub-027_task-eyesclosed_eeg.set: отсутствуют необходимые каналы ['A1', 'A2']\n",
      "Ошибка subj=sub-027, task=eyesclosed: 'NoneType' object has no attribute 'info'\n",
      "Нет файла: /Users/taniyashuba/PycharmProjects/eeg-transformer-gnn/data/ds004504/derivatives/sub-027/eeg/sub-027_task-eyesopen_eeg.set, пропускаем задачу eyesopen.\n",
      "Loading: /Users/taniyashuba/PycharmProjects/eeg-transformer-gnn/data/ds004504/derivatives/sub-028/eeg/sub-028_task-eyesclosed_eeg.set\n",
      "Ошибка subj=/Users/taniyashuba/PycharmProjects/eeg-transformer-gnn/data/ds004504/derivatives/sub-028/eeg/sub-028_task-eyesclosed_eeg.set: отсутствуют необходимые каналы ['A1', 'A2']\n",
      "Ошибка subj=sub-028, task=eyesclosed: 'NoneType' object has no attribute 'info'\n",
      "Нет файла: /Users/taniyashuba/PycharmProjects/eeg-transformer-gnn/data/ds004504/derivatives/sub-028/eeg/sub-028_task-eyesopen_eeg.set, пропускаем задачу eyesopen.\n",
      "Loading: /Users/taniyashuba/PycharmProjects/eeg-transformer-gnn/data/ds004504/derivatives/sub-029/eeg/sub-029_task-eyesclosed_eeg.set\n",
      "Ошибка subj=/Users/taniyashuba/PycharmProjects/eeg-transformer-gnn/data/ds004504/derivatives/sub-029/eeg/sub-029_task-eyesclosed_eeg.set: отсутствуют необходимые каналы ['A1', 'A2']\n",
      "Ошибка subj=sub-029, task=eyesclosed: 'NoneType' object has no attribute 'info'\n",
      "Нет файла: /Users/taniyashuba/PycharmProjects/eeg-transformer-gnn/data/ds004504/derivatives/sub-029/eeg/sub-029_task-eyesopen_eeg.set, пропускаем задачу eyesopen.\n",
      "Loading: /Users/taniyashuba/PycharmProjects/eeg-transformer-gnn/data/ds004504/derivatives/sub-030/eeg/sub-030_task-eyesclosed_eeg.set\n",
      "Ошибка subj=/Users/taniyashuba/PycharmProjects/eeg-transformer-gnn/data/ds004504/derivatives/sub-030/eeg/sub-030_task-eyesclosed_eeg.set: отсутствуют необходимые каналы ['A1', 'A2']\n",
      "Ошибка subj=sub-030, task=eyesclosed: 'NoneType' object has no attribute 'info'\n",
      "Нет файла: /Users/taniyashuba/PycharmProjects/eeg-transformer-gnn/data/ds004504/derivatives/sub-030/eeg/sub-030_task-eyesopen_eeg.set, пропускаем задачу eyesopen.\n",
      "Loading: /Users/taniyashuba/PycharmProjects/eeg-transformer-gnn/data/ds004504/derivatives/sub-031/eeg/sub-031_task-eyesclosed_eeg.set\n"
     ]
    },
    {
     "name": "stderr",
     "output_type": "stream",
     "text": [
      "/var/folders/87/d35_l8056xbbpvj6g4knhvsm0000gn/T/ipykernel_8684/2802821301.py:21: RuntimeWarning: The data contains 'boundary' events, indicating data discontinuities. Be cautious of filtering and epoching around these events.\n",
      "  raw = mne.io.read_raw_eeglab(set_fname, preload=True)\n",
      "/var/folders/87/d35_l8056xbbpvj6g4knhvsm0000gn/T/ipykernel_8684/2802821301.py:21: RuntimeWarning: The data contains 'boundary' events, indicating data discontinuities. Be cautious of filtering and epoching around these events.\n",
      "  raw = mne.io.read_raw_eeglab(set_fname, preload=True)\n",
      "/var/folders/87/d35_l8056xbbpvj6g4knhvsm0000gn/T/ipykernel_8684/2802821301.py:21: RuntimeWarning: The data contains 'boundary' events, indicating data discontinuities. Be cautious of filtering and epoching around these events.\n",
      "  raw = mne.io.read_raw_eeglab(set_fname, preload=True)\n",
      "/var/folders/87/d35_l8056xbbpvj6g4knhvsm0000gn/T/ipykernel_8684/2802821301.py:21: RuntimeWarning: The data contains 'boundary' events, indicating data discontinuities. Be cautious of filtering and epoching around these events.\n",
      "  raw = mne.io.read_raw_eeglab(set_fname, preload=True)\n"
     ]
    },
    {
     "name": "stdout",
     "output_type": "stream",
     "text": [
      "Ошибка subj=/Users/taniyashuba/PycharmProjects/eeg-transformer-gnn/data/ds004504/derivatives/sub-031/eeg/sub-031_task-eyesclosed_eeg.set: отсутствуют необходимые каналы ['A1', 'A2']\n",
      "Ошибка subj=sub-031, task=eyesclosed: 'NoneType' object has no attribute 'info'\n",
      "Нет файла: /Users/taniyashuba/PycharmProjects/eeg-transformer-gnn/data/ds004504/derivatives/sub-031/eeg/sub-031_task-eyesopen_eeg.set, пропускаем задачу eyesopen.\n",
      "Loading: /Users/taniyashuba/PycharmProjects/eeg-transformer-gnn/data/ds004504/derivatives/sub-032/eeg/sub-032_task-eyesclosed_eeg.set\n",
      "Ошибка subj=/Users/taniyashuba/PycharmProjects/eeg-transformer-gnn/data/ds004504/derivatives/sub-032/eeg/sub-032_task-eyesclosed_eeg.set: отсутствуют необходимые каналы ['A1', 'A2']\n",
      "Ошибка subj=sub-032, task=eyesclosed: 'NoneType' object has no attribute 'info'\n",
      "Нет файла: /Users/taniyashuba/PycharmProjects/eeg-transformer-gnn/data/ds004504/derivatives/sub-032/eeg/sub-032_task-eyesopen_eeg.set, пропускаем задачу eyesopen.\n",
      "Loading: /Users/taniyashuba/PycharmProjects/eeg-transformer-gnn/data/ds004504/derivatives/sub-033/eeg/sub-033_task-eyesclosed_eeg.set\n",
      "Ошибка subj=/Users/taniyashuba/PycharmProjects/eeg-transformer-gnn/data/ds004504/derivatives/sub-033/eeg/sub-033_task-eyesclosed_eeg.set: отсутствуют необходимые каналы ['A1', 'A2']\n",
      "Ошибка subj=sub-033, task=eyesclosed: 'NoneType' object has no attribute 'info'\n",
      "Нет файла: /Users/taniyashuba/PycharmProjects/eeg-transformer-gnn/data/ds004504/derivatives/sub-033/eeg/sub-033_task-eyesopen_eeg.set, пропускаем задачу eyesopen.\n",
      "Loading: /Users/taniyashuba/PycharmProjects/eeg-transformer-gnn/data/ds004504/derivatives/sub-034/eeg/sub-034_task-eyesclosed_eeg.set\n",
      "Ошибка subj=/Users/taniyashuba/PycharmProjects/eeg-transformer-gnn/data/ds004504/derivatives/sub-034/eeg/sub-034_task-eyesclosed_eeg.set: отсутствуют необходимые каналы ['A1', 'A2']\n",
      "Ошибка subj=sub-034, task=eyesclosed: 'NoneType' object has no attribute 'info'\n",
      "Нет файла: /Users/taniyashuba/PycharmProjects/eeg-transformer-gnn/data/ds004504/derivatives/sub-034/eeg/sub-034_task-eyesopen_eeg.set, пропускаем задачу eyesopen.\n",
      "Loading: /Users/taniyashuba/PycharmProjects/eeg-transformer-gnn/data/ds004504/derivatives/sub-035/eeg/sub-035_task-eyesclosed_eeg.set\n",
      "Ошибка subj=/Users/taniyashuba/PycharmProjects/eeg-transformer-gnn/data/ds004504/derivatives/sub-035/eeg/sub-035_task-eyesclosed_eeg.set: отсутствуют необходимые каналы ['A1', 'A2']\n",
      "Ошибка subj=sub-035, task=eyesclosed: 'NoneType' object has no attribute 'info'\n",
      "Нет файла: /Users/taniyashuba/PycharmProjects/eeg-transformer-gnn/data/ds004504/derivatives/sub-035/eeg/sub-035_task-eyesopen_eeg.set, пропускаем задачу eyesopen.\n",
      "Loading: /Users/taniyashuba/PycharmProjects/eeg-transformer-gnn/data/ds004504/derivatives/sub-036/eeg/sub-036_task-eyesclosed_eeg.set\n"
     ]
    },
    {
     "name": "stderr",
     "output_type": "stream",
     "text": [
      "/var/folders/87/d35_l8056xbbpvj6g4knhvsm0000gn/T/ipykernel_8684/2802821301.py:21: RuntimeWarning: The data contains 'boundary' events, indicating data discontinuities. Be cautious of filtering and epoching around these events.\n",
      "  raw = mne.io.read_raw_eeglab(set_fname, preload=True)\n",
      "/var/folders/87/d35_l8056xbbpvj6g4knhvsm0000gn/T/ipykernel_8684/2802821301.py:21: RuntimeWarning: The data contains 'boundary' events, indicating data discontinuities. Be cautious of filtering and epoching around these events.\n",
      "  raw = mne.io.read_raw_eeglab(set_fname, preload=True)\n",
      "/var/folders/87/d35_l8056xbbpvj6g4knhvsm0000gn/T/ipykernel_8684/2802821301.py:21: RuntimeWarning: The data contains 'boundary' events, indicating data discontinuities. Be cautious of filtering and epoching around these events.\n",
      "  raw = mne.io.read_raw_eeglab(set_fname, preload=True)\n",
      "/var/folders/87/d35_l8056xbbpvj6g4knhvsm0000gn/T/ipykernel_8684/2802821301.py:21: RuntimeWarning: The data contains 'boundary' events, indicating data discontinuities. Be cautious of filtering and epoching around these events.\n",
      "  raw = mne.io.read_raw_eeglab(set_fname, preload=True)\n"
     ]
    },
    {
     "name": "stdout",
     "output_type": "stream",
     "text": [
      "Ошибка subj=/Users/taniyashuba/PycharmProjects/eeg-transformer-gnn/data/ds004504/derivatives/sub-036/eeg/sub-036_task-eyesclosed_eeg.set: отсутствуют необходимые каналы ['A1', 'A2']\n",
      "Ошибка subj=sub-036, task=eyesclosed: 'NoneType' object has no attribute 'info'\n",
      "Нет файла: /Users/taniyashuba/PycharmProjects/eeg-transformer-gnn/data/ds004504/derivatives/sub-036/eeg/sub-036_task-eyesopen_eeg.set, пропускаем задачу eyesopen.\n",
      "Loading: /Users/taniyashuba/PycharmProjects/eeg-transformer-gnn/data/ds004504/derivatives/sub-037/eeg/sub-037_task-eyesclosed_eeg.set\n",
      "Ошибка subj=/Users/taniyashuba/PycharmProjects/eeg-transformer-gnn/data/ds004504/derivatives/sub-037/eeg/sub-037_task-eyesclosed_eeg.set: отсутствуют необходимые каналы ['A1', 'A2']\n",
      "Ошибка subj=sub-037, task=eyesclosed: 'NoneType' object has no attribute 'info'\n",
      "Нет файла: /Users/taniyashuba/PycharmProjects/eeg-transformer-gnn/data/ds004504/derivatives/sub-037/eeg/sub-037_task-eyesopen_eeg.set, пропускаем задачу eyesopen.\n",
      "Loading: /Users/taniyashuba/PycharmProjects/eeg-transformer-gnn/data/ds004504/derivatives/sub-038/eeg/sub-038_task-eyesclosed_eeg.set\n",
      "Ошибка subj=/Users/taniyashuba/PycharmProjects/eeg-transformer-gnn/data/ds004504/derivatives/sub-038/eeg/sub-038_task-eyesclosed_eeg.set: отсутствуют необходимые каналы ['A1', 'A2']\n",
      "Ошибка subj=sub-038, task=eyesclosed: 'NoneType' object has no attribute 'info'\n",
      "Нет файла: /Users/taniyashuba/PycharmProjects/eeg-transformer-gnn/data/ds004504/derivatives/sub-038/eeg/sub-038_task-eyesopen_eeg.set, пропускаем задачу eyesopen.\n",
      "Loading: /Users/taniyashuba/PycharmProjects/eeg-transformer-gnn/data/ds004504/derivatives/sub-039/eeg/sub-039_task-eyesclosed_eeg.set\n",
      "Ошибка subj=/Users/taniyashuba/PycharmProjects/eeg-transformer-gnn/data/ds004504/derivatives/sub-039/eeg/sub-039_task-eyesclosed_eeg.set: отсутствуют необходимые каналы ['A1', 'A2']\n",
      "Ошибка subj=sub-039, task=eyesclosed: 'NoneType' object has no attribute 'info'\n",
      "Нет файла: /Users/taniyashuba/PycharmProjects/eeg-transformer-gnn/data/ds004504/derivatives/sub-039/eeg/sub-039_task-eyesopen_eeg.set, пропускаем задачу eyesopen.\n",
      "Loading: /Users/taniyashuba/PycharmProjects/eeg-transformer-gnn/data/ds004504/derivatives/sub-040/eeg/sub-040_task-eyesclosed_eeg.set\n"
     ]
    },
    {
     "name": "stderr",
     "output_type": "stream",
     "text": [
      "/var/folders/87/d35_l8056xbbpvj6g4knhvsm0000gn/T/ipykernel_8684/2802821301.py:21: RuntimeWarning: The data contains 'boundary' events, indicating data discontinuities. Be cautious of filtering and epoching around these events.\n",
      "  raw = mne.io.read_raw_eeglab(set_fname, preload=True)\n",
      "/var/folders/87/d35_l8056xbbpvj6g4knhvsm0000gn/T/ipykernel_8684/2802821301.py:21: RuntimeWarning: The data contains 'boundary' events, indicating data discontinuities. Be cautious of filtering and epoching around these events.\n",
      "  raw = mne.io.read_raw_eeglab(set_fname, preload=True)\n",
      "/var/folders/87/d35_l8056xbbpvj6g4knhvsm0000gn/T/ipykernel_8684/2802821301.py:21: RuntimeWarning: The data contains 'boundary' events, indicating data discontinuities. Be cautious of filtering and epoching around these events.\n",
      "  raw = mne.io.read_raw_eeglab(set_fname, preload=True)\n",
      "/var/folders/87/d35_l8056xbbpvj6g4knhvsm0000gn/T/ipykernel_8684/2802821301.py:21: RuntimeWarning: The data contains 'boundary' events, indicating data discontinuities. Be cautious of filtering and epoching around these events.\n",
      "  raw = mne.io.read_raw_eeglab(set_fname, preload=True)\n"
     ]
    },
    {
     "name": "stdout",
     "output_type": "stream",
     "text": [
      "Ошибка subj=/Users/taniyashuba/PycharmProjects/eeg-transformer-gnn/data/ds004504/derivatives/sub-040/eeg/sub-040_task-eyesclosed_eeg.set: отсутствуют необходимые каналы ['A1', 'A2']\n",
      "Ошибка subj=sub-040, task=eyesclosed: 'NoneType' object has no attribute 'info'\n",
      "Нет файла: /Users/taniyashuba/PycharmProjects/eeg-transformer-gnn/data/ds004504/derivatives/sub-040/eeg/sub-040_task-eyesopen_eeg.set, пропускаем задачу eyesopen.\n",
      "Loading: /Users/taniyashuba/PycharmProjects/eeg-transformer-gnn/data/ds004504/derivatives/sub-041/eeg/sub-041_task-eyesclosed_eeg.set\n",
      "Ошибка subj=/Users/taniyashuba/PycharmProjects/eeg-transformer-gnn/data/ds004504/derivatives/sub-041/eeg/sub-041_task-eyesclosed_eeg.set: отсутствуют необходимые каналы ['A1', 'A2']\n",
      "Ошибка subj=sub-041, task=eyesclosed: 'NoneType' object has no attribute 'info'\n",
      "Нет файла: /Users/taniyashuba/PycharmProjects/eeg-transformer-gnn/data/ds004504/derivatives/sub-041/eeg/sub-041_task-eyesopen_eeg.set, пропускаем задачу eyesopen.\n",
      "Loading: /Users/taniyashuba/PycharmProjects/eeg-transformer-gnn/data/ds004504/derivatives/sub-042/eeg/sub-042_task-eyesclosed_eeg.set\n",
      "Ошибка subj=/Users/taniyashuba/PycharmProjects/eeg-transformer-gnn/data/ds004504/derivatives/sub-042/eeg/sub-042_task-eyesclosed_eeg.set: отсутствуют необходимые каналы ['A1', 'A2']\n",
      "Ошибка subj=sub-042, task=eyesclosed: 'NoneType' object has no attribute 'info'\n",
      "Нет файла: /Users/taniyashuba/PycharmProjects/eeg-transformer-gnn/data/ds004504/derivatives/sub-042/eeg/sub-042_task-eyesopen_eeg.set, пропускаем задачу eyesopen.\n",
      "Loading: /Users/taniyashuba/PycharmProjects/eeg-transformer-gnn/data/ds004504/derivatives/sub-043/eeg/sub-043_task-eyesclosed_eeg.set\n",
      "Ошибка subj=/Users/taniyashuba/PycharmProjects/eeg-transformer-gnn/data/ds004504/derivatives/sub-043/eeg/sub-043_task-eyesclosed_eeg.set: отсутствуют необходимые каналы ['A1', 'A2']\n",
      "Ошибка subj=sub-043, task=eyesclosed: 'NoneType' object has no attribute 'info'\n",
      "Нет файла: /Users/taniyashuba/PycharmProjects/eeg-transformer-gnn/data/ds004504/derivatives/sub-043/eeg/sub-043_task-eyesopen_eeg.set, пропускаем задачу eyesopen.\n",
      "Loading: /Users/taniyashuba/PycharmProjects/eeg-transformer-gnn/data/ds004504/derivatives/sub-044/eeg/sub-044_task-eyesclosed_eeg.set\n"
     ]
    },
    {
     "name": "stderr",
     "output_type": "stream",
     "text": [
      "/var/folders/87/d35_l8056xbbpvj6g4knhvsm0000gn/T/ipykernel_8684/2802821301.py:21: RuntimeWarning: The data contains 'boundary' events, indicating data discontinuities. Be cautious of filtering and epoching around these events.\n",
      "  raw = mne.io.read_raw_eeglab(set_fname, preload=True)\n",
      "/var/folders/87/d35_l8056xbbpvj6g4knhvsm0000gn/T/ipykernel_8684/2802821301.py:21: RuntimeWarning: The data contains 'boundary' events, indicating data discontinuities. Be cautious of filtering and epoching around these events.\n",
      "  raw = mne.io.read_raw_eeglab(set_fname, preload=True)\n"
     ]
    },
    {
     "name": "stdout",
     "output_type": "stream",
     "text": [
      "Ошибка subj=/Users/taniyashuba/PycharmProjects/eeg-transformer-gnn/data/ds004504/derivatives/sub-044/eeg/sub-044_task-eyesclosed_eeg.set: отсутствуют необходимые каналы ['A1', 'A2']\n",
      "Ошибка subj=sub-044, task=eyesclosed: 'NoneType' object has no attribute 'info'\n",
      "Нет файла: /Users/taniyashuba/PycharmProjects/eeg-transformer-gnn/data/ds004504/derivatives/sub-044/eeg/sub-044_task-eyesopen_eeg.set, пропускаем задачу eyesopen.\n",
      "Loading: /Users/taniyashuba/PycharmProjects/eeg-transformer-gnn/data/ds004504/derivatives/sub-045/eeg/sub-045_task-eyesclosed_eeg.set\n",
      "Ошибка subj=/Users/taniyashuba/PycharmProjects/eeg-transformer-gnn/data/ds004504/derivatives/sub-045/eeg/sub-045_task-eyesclosed_eeg.set: отсутствуют необходимые каналы ['A1', 'A2']\n",
      "Ошибка subj=sub-045, task=eyesclosed: 'NoneType' object has no attribute 'info'\n",
      "Нет файла: /Users/taniyashuba/PycharmProjects/eeg-transformer-gnn/data/ds004504/derivatives/sub-045/eeg/sub-045_task-eyesopen_eeg.set, пропускаем задачу eyesopen.\n",
      "Loading: /Users/taniyashuba/PycharmProjects/eeg-transformer-gnn/data/ds004504/derivatives/sub-046/eeg/sub-046_task-eyesclosed_eeg.set\n",
      "Ошибка subj=/Users/taniyashuba/PycharmProjects/eeg-transformer-gnn/data/ds004504/derivatives/sub-046/eeg/sub-046_task-eyesclosed_eeg.set: отсутствуют необходимые каналы ['A1', 'A2']\n",
      "Ошибка subj=sub-046, task=eyesclosed: 'NoneType' object has no attribute 'info'\n",
      "Нет файла: /Users/taniyashuba/PycharmProjects/eeg-transformer-gnn/data/ds004504/derivatives/sub-046/eeg/sub-046_task-eyesopen_eeg.set, пропускаем задачу eyesopen.\n",
      "Loading: /Users/taniyashuba/PycharmProjects/eeg-transformer-gnn/data/ds004504/derivatives/sub-047/eeg/sub-047_task-eyesclosed_eeg.set\n",
      "Ошибка subj=/Users/taniyashuba/PycharmProjects/eeg-transformer-gnn/data/ds004504/derivatives/sub-047/eeg/sub-047_task-eyesclosed_eeg.set: отсутствуют необходимые каналы ['A1', 'A2']\n",
      "Ошибка subj=sub-047, task=eyesclosed: 'NoneType' object has no attribute 'info'\n",
      "Нет файла: /Users/taniyashuba/PycharmProjects/eeg-transformer-gnn/data/ds004504/derivatives/sub-047/eeg/sub-047_task-eyesopen_eeg.set, пропускаем задачу eyesopen.\n",
      "Loading: /Users/taniyashuba/PycharmProjects/eeg-transformer-gnn/data/ds004504/derivatives/sub-048/eeg/sub-048_task-eyesclosed_eeg.set\n"
     ]
    },
    {
     "name": "stderr",
     "output_type": "stream",
     "text": [
      "/var/folders/87/d35_l8056xbbpvj6g4knhvsm0000gn/T/ipykernel_8684/2802821301.py:21: RuntimeWarning: The data contains 'boundary' events, indicating data discontinuities. Be cautious of filtering and epoching around these events.\n",
      "  raw = mne.io.read_raw_eeglab(set_fname, preload=True)\n",
      "/var/folders/87/d35_l8056xbbpvj6g4knhvsm0000gn/T/ipykernel_8684/2802821301.py:21: RuntimeWarning: The data contains 'boundary' events, indicating data discontinuities. Be cautious of filtering and epoching around these events.\n",
      "  raw = mne.io.read_raw_eeglab(set_fname, preload=True)\n",
      "/var/folders/87/d35_l8056xbbpvj6g4knhvsm0000gn/T/ipykernel_8684/2802821301.py:21: RuntimeWarning: The data contains 'boundary' events, indicating data discontinuities. Be cautious of filtering and epoching around these events.\n",
      "  raw = mne.io.read_raw_eeglab(set_fname, preload=True)\n",
      "/var/folders/87/d35_l8056xbbpvj6g4knhvsm0000gn/T/ipykernel_8684/2802821301.py:21: RuntimeWarning: The data contains 'boundary' events, indicating data discontinuities. Be cautious of filtering and epoching around these events.\n",
      "  raw = mne.io.read_raw_eeglab(set_fname, preload=True)\n"
     ]
    },
    {
     "name": "stdout",
     "output_type": "stream",
     "text": [
      "Ошибка subj=/Users/taniyashuba/PycharmProjects/eeg-transformer-gnn/data/ds004504/derivatives/sub-048/eeg/sub-048_task-eyesclosed_eeg.set: отсутствуют необходимые каналы ['A1', 'A2']\n",
      "Ошибка subj=sub-048, task=eyesclosed: 'NoneType' object has no attribute 'info'\n",
      "Нет файла: /Users/taniyashuba/PycharmProjects/eeg-transformer-gnn/data/ds004504/derivatives/sub-048/eeg/sub-048_task-eyesopen_eeg.set, пропускаем задачу eyesopen.\n",
      "Loading: /Users/taniyashuba/PycharmProjects/eeg-transformer-gnn/data/ds004504/derivatives/sub-049/eeg/sub-049_task-eyesclosed_eeg.set\n",
      "Ошибка subj=/Users/taniyashuba/PycharmProjects/eeg-transformer-gnn/data/ds004504/derivatives/sub-049/eeg/sub-049_task-eyesclosed_eeg.set: отсутствуют необходимые каналы ['A1', 'A2']\n",
      "Ошибка subj=sub-049, task=eyesclosed: 'NoneType' object has no attribute 'info'\n",
      "Нет файла: /Users/taniyashuba/PycharmProjects/eeg-transformer-gnn/data/ds004504/derivatives/sub-049/eeg/sub-049_task-eyesopen_eeg.set, пропускаем задачу eyesopen.\n",
      "Loading: /Users/taniyashuba/PycharmProjects/eeg-transformer-gnn/data/ds004504/derivatives/sub-050/eeg/sub-050_task-eyesclosed_eeg.set\n",
      "Ошибка subj=/Users/taniyashuba/PycharmProjects/eeg-transformer-gnn/data/ds004504/derivatives/sub-050/eeg/sub-050_task-eyesclosed_eeg.set: отсутствуют необходимые каналы ['A1', 'A2']\n",
      "Ошибка subj=sub-050, task=eyesclosed: 'NoneType' object has no attribute 'info'\n",
      "Нет файла: /Users/taniyashuba/PycharmProjects/eeg-transformer-gnn/data/ds004504/derivatives/sub-050/eeg/sub-050_task-eyesopen_eeg.set, пропускаем задачу eyesopen.\n",
      "Loading: /Users/taniyashuba/PycharmProjects/eeg-transformer-gnn/data/ds004504/derivatives/sub-051/eeg/sub-051_task-eyesclosed_eeg.set\n",
      "Ошибка subj=/Users/taniyashuba/PycharmProjects/eeg-transformer-gnn/data/ds004504/derivatives/sub-051/eeg/sub-051_task-eyesclosed_eeg.set: отсутствуют необходимые каналы ['A1', 'A2']\n",
      "Ошибка subj=sub-051, task=eyesclosed: 'NoneType' object has no attribute 'info'\n",
      "Нет файла: /Users/taniyashuba/PycharmProjects/eeg-transformer-gnn/data/ds004504/derivatives/sub-051/eeg/sub-051_task-eyesopen_eeg.set, пропускаем задачу eyesopen.\n",
      "Loading: /Users/taniyashuba/PycharmProjects/eeg-transformer-gnn/data/ds004504/derivatives/sub-052/eeg/sub-052_task-eyesclosed_eeg.set\n",
      "Ошибка subj=/Users/taniyashuba/PycharmProjects/eeg-transformer-gnn/data/ds004504/derivatives/sub-052/eeg/sub-052_task-eyesclosed_eeg.set: отсутствуют необходимые каналы ['A1', 'A2']\n",
      "Ошибка subj=sub-052, task=eyesclosed: 'NoneType' object has no attribute 'info'\n"
     ]
    },
    {
     "name": "stderr",
     "output_type": "stream",
     "text": [
      "/var/folders/87/d35_l8056xbbpvj6g4knhvsm0000gn/T/ipykernel_8684/2802821301.py:21: RuntimeWarning: The data contains 'boundary' events, indicating data discontinuities. Be cautious of filtering and epoching around these events.\n",
      "  raw = mne.io.read_raw_eeglab(set_fname, preload=True)\n",
      "/var/folders/87/d35_l8056xbbpvj6g4knhvsm0000gn/T/ipykernel_8684/2802821301.py:21: RuntimeWarning: The data contains 'boundary' events, indicating data discontinuities. Be cautious of filtering and epoching around these events.\n",
      "  raw = mne.io.read_raw_eeglab(set_fname, preload=True)\n",
      "/var/folders/87/d35_l8056xbbpvj6g4knhvsm0000gn/T/ipykernel_8684/2802821301.py:21: RuntimeWarning: The data contains 'boundary' events, indicating data discontinuities. Be cautious of filtering and epoching around these events.\n",
      "  raw = mne.io.read_raw_eeglab(set_fname, preload=True)\n",
      "/var/folders/87/d35_l8056xbbpvj6g4knhvsm0000gn/T/ipykernel_8684/2802821301.py:21: RuntimeWarning: The data contains 'boundary' events, indicating data discontinuities. Be cautious of filtering and epoching around these events.\n",
      "  raw = mne.io.read_raw_eeglab(set_fname, preload=True)\n"
     ]
    },
    {
     "name": "stdout",
     "output_type": "stream",
     "text": [
      "Нет файла: /Users/taniyashuba/PycharmProjects/eeg-transformer-gnn/data/ds004504/derivatives/sub-052/eeg/sub-052_task-eyesopen_eeg.set, пропускаем задачу eyesopen.\n",
      "Loading: /Users/taniyashuba/PycharmProjects/eeg-transformer-gnn/data/ds004504/derivatives/sub-053/eeg/sub-053_task-eyesclosed_eeg.set\n",
      "Ошибка subj=/Users/taniyashuba/PycharmProjects/eeg-transformer-gnn/data/ds004504/derivatives/sub-053/eeg/sub-053_task-eyesclosed_eeg.set: отсутствуют необходимые каналы ['A1', 'A2']\n",
      "Ошибка subj=sub-053, task=eyesclosed: 'NoneType' object has no attribute 'info'\n",
      "Нет файла: /Users/taniyashuba/PycharmProjects/eeg-transformer-gnn/data/ds004504/derivatives/sub-053/eeg/sub-053_task-eyesopen_eeg.set, пропускаем задачу eyesopen.\n",
      "Loading: /Users/taniyashuba/PycharmProjects/eeg-transformer-gnn/data/ds004504/derivatives/sub-054/eeg/sub-054_task-eyesclosed_eeg.set\n",
      "Ошибка subj=/Users/taniyashuba/PycharmProjects/eeg-transformer-gnn/data/ds004504/derivatives/sub-054/eeg/sub-054_task-eyesclosed_eeg.set: отсутствуют необходимые каналы ['A1', 'A2']\n",
      "Ошибка subj=sub-054, task=eyesclosed: 'NoneType' object has no attribute 'info'\n",
      "Нет файла: /Users/taniyashuba/PycharmProjects/eeg-transformer-gnn/data/ds004504/derivatives/sub-054/eeg/sub-054_task-eyesopen_eeg.set, пропускаем задачу eyesopen.\n",
      "Loading: /Users/taniyashuba/PycharmProjects/eeg-transformer-gnn/data/ds004504/derivatives/sub-055/eeg/sub-055_task-eyesclosed_eeg.set\n",
      "Ошибка subj=/Users/taniyashuba/PycharmProjects/eeg-transformer-gnn/data/ds004504/derivatives/sub-055/eeg/sub-055_task-eyesclosed_eeg.set: отсутствуют необходимые каналы ['A1', 'A2']\n",
      "Ошибка subj=sub-055, task=eyesclosed: 'NoneType' object has no attribute 'info'\n",
      "Нет файла: /Users/taniyashuba/PycharmProjects/eeg-transformer-gnn/data/ds004504/derivatives/sub-055/eeg/sub-055_task-eyesopen_eeg.set, пропускаем задачу eyesopen.\n",
      "Loading: /Users/taniyashuba/PycharmProjects/eeg-transformer-gnn/data/ds004504/derivatives/sub-056/eeg/sub-056_task-eyesclosed_eeg.set\n"
     ]
    },
    {
     "name": "stderr",
     "output_type": "stream",
     "text": [
      "/var/folders/87/d35_l8056xbbpvj6g4knhvsm0000gn/T/ipykernel_8684/2802821301.py:21: RuntimeWarning: The data contains 'boundary' events, indicating data discontinuities. Be cautious of filtering and epoching around these events.\n",
      "  raw = mne.io.read_raw_eeglab(set_fname, preload=True)\n",
      "/var/folders/87/d35_l8056xbbpvj6g4knhvsm0000gn/T/ipykernel_8684/2802821301.py:21: RuntimeWarning: The data contains 'boundary' events, indicating data discontinuities. Be cautious of filtering and epoching around these events.\n",
      "  raw = mne.io.read_raw_eeglab(set_fname, preload=True)\n",
      "/var/folders/87/d35_l8056xbbpvj6g4knhvsm0000gn/T/ipykernel_8684/2802821301.py:21: RuntimeWarning: The data contains 'boundary' events, indicating data discontinuities. Be cautious of filtering and epoching around these events.\n",
      "  raw = mne.io.read_raw_eeglab(set_fname, preload=True)\n"
     ]
    },
    {
     "name": "stdout",
     "output_type": "stream",
     "text": [
      "Ошибка subj=/Users/taniyashuba/PycharmProjects/eeg-transformer-gnn/data/ds004504/derivatives/sub-056/eeg/sub-056_task-eyesclosed_eeg.set: отсутствуют необходимые каналы ['A1', 'A2']\n",
      "Ошибка subj=sub-056, task=eyesclosed: 'NoneType' object has no attribute 'info'\n",
      "Нет файла: /Users/taniyashuba/PycharmProjects/eeg-transformer-gnn/data/ds004504/derivatives/sub-056/eeg/sub-056_task-eyesopen_eeg.set, пропускаем задачу eyesopen.\n",
      "Loading: /Users/taniyashuba/PycharmProjects/eeg-transformer-gnn/data/ds004504/derivatives/sub-057/eeg/sub-057_task-eyesclosed_eeg.set\n",
      "Ошибка subj=/Users/taniyashuba/PycharmProjects/eeg-transformer-gnn/data/ds004504/derivatives/sub-057/eeg/sub-057_task-eyesclosed_eeg.set: отсутствуют необходимые каналы ['A1', 'A2']\n",
      "Ошибка subj=sub-057, task=eyesclosed: 'NoneType' object has no attribute 'info'\n",
      "Нет файла: /Users/taniyashuba/PycharmProjects/eeg-transformer-gnn/data/ds004504/derivatives/sub-057/eeg/sub-057_task-eyesopen_eeg.set, пропускаем задачу eyesopen.\n",
      "Loading: /Users/taniyashuba/PycharmProjects/eeg-transformer-gnn/data/ds004504/derivatives/sub-058/eeg/sub-058_task-eyesclosed_eeg.set\n",
      "Ошибка subj=/Users/taniyashuba/PycharmProjects/eeg-transformer-gnn/data/ds004504/derivatives/sub-058/eeg/sub-058_task-eyesclosed_eeg.set: отсутствуют необходимые каналы ['A1', 'A2']\n",
      "Ошибка subj=sub-058, task=eyesclosed: 'NoneType' object has no attribute 'info'\n",
      "Нет файла: /Users/taniyashuba/PycharmProjects/eeg-transformer-gnn/data/ds004504/derivatives/sub-058/eeg/sub-058_task-eyesopen_eeg.set, пропускаем задачу eyesopen.\n",
      "Loading: /Users/taniyashuba/PycharmProjects/eeg-transformer-gnn/data/ds004504/derivatives/sub-059/eeg/sub-059_task-eyesclosed_eeg.set\n",
      "Ошибка subj=/Users/taniyashuba/PycharmProjects/eeg-transformer-gnn/data/ds004504/derivatives/sub-059/eeg/sub-059_task-eyesclosed_eeg.set: отсутствуют необходимые каналы ['A1', 'A2']\n",
      "Ошибка subj=sub-059, task=eyesclosed: 'NoneType' object has no attribute 'info'\n",
      "Нет файла: /Users/taniyashuba/PycharmProjects/eeg-transformer-gnn/data/ds004504/derivatives/sub-059/eeg/sub-059_task-eyesopen_eeg.set, пропускаем задачу eyesopen.\n",
      "Loading: /Users/taniyashuba/PycharmProjects/eeg-transformer-gnn/data/ds004504/derivatives/sub-060/eeg/sub-060_task-eyesclosed_eeg.set\n",
      "Ошибка subj=/Users/taniyashuba/PycharmProjects/eeg-transformer-gnn/data/ds004504/derivatives/sub-060/eeg/sub-060_task-eyesclosed_eeg.set: отсутствуют необходимые каналы ['A1', 'A2']\n",
      "Ошибка subj=sub-060, task=eyesclosed: 'NoneType' object has no attribute 'info'\n",
      "Нет файла: /Users/taniyashuba/PycharmProjects/eeg-transformer-gnn/data/ds004504/derivatives/sub-060/eeg/sub-060_task-eyesopen_eeg.set, пропускаем задачу eyesopen.\n"
     ]
    },
    {
     "name": "stderr",
     "output_type": "stream",
     "text": [
      "/var/folders/87/d35_l8056xbbpvj6g4knhvsm0000gn/T/ipykernel_8684/2802821301.py:21: RuntimeWarning: The data contains 'boundary' events, indicating data discontinuities. Be cautious of filtering and epoching around these events.\n",
      "  raw = mne.io.read_raw_eeglab(set_fname, preload=True)\n",
      "/var/folders/87/d35_l8056xbbpvj6g4knhvsm0000gn/T/ipykernel_8684/2802821301.py:21: RuntimeWarning: The data contains 'boundary' events, indicating data discontinuities. Be cautious of filtering and epoching around these events.\n",
      "  raw = mne.io.read_raw_eeglab(set_fname, preload=True)\n",
      "/var/folders/87/d35_l8056xbbpvj6g4knhvsm0000gn/T/ipykernel_8684/2802821301.py:21: RuntimeWarning: The data contains 'boundary' events, indicating data discontinuities. Be cautious of filtering and epoching around these events.\n",
      "  raw = mne.io.read_raw_eeglab(set_fname, preload=True)\n",
      "/var/folders/87/d35_l8056xbbpvj6g4knhvsm0000gn/T/ipykernel_8684/2802821301.py:21: RuntimeWarning: The data contains 'boundary' events, indicating data discontinuities. Be cautious of filtering and epoching around these events.\n",
      "  raw = mne.io.read_raw_eeglab(set_fname, preload=True)\n"
     ]
    },
    {
     "name": "stdout",
     "output_type": "stream",
     "text": [
      "Loading: /Users/taniyashuba/PycharmProjects/eeg-transformer-gnn/data/ds004504/derivatives/sub-061/eeg/sub-061_task-eyesclosed_eeg.set\n",
      "Ошибка subj=/Users/taniyashuba/PycharmProjects/eeg-transformer-gnn/data/ds004504/derivatives/sub-061/eeg/sub-061_task-eyesclosed_eeg.set: отсутствуют необходимые каналы ['A1', 'A2']\n",
      "Ошибка subj=sub-061, task=eyesclosed: 'NoneType' object has no attribute 'info'\n",
      "Нет файла: /Users/taniyashuba/PycharmProjects/eeg-transformer-gnn/data/ds004504/derivatives/sub-061/eeg/sub-061_task-eyesopen_eeg.set, пропускаем задачу eyesopen.\n",
      "Loading: /Users/taniyashuba/PycharmProjects/eeg-transformer-gnn/data/ds004504/derivatives/sub-062/eeg/sub-062_task-eyesclosed_eeg.set\n",
      "Ошибка subj=/Users/taniyashuba/PycharmProjects/eeg-transformer-gnn/data/ds004504/derivatives/sub-062/eeg/sub-062_task-eyesclosed_eeg.set: отсутствуют необходимые каналы ['A1', 'A2']\n",
      "Ошибка subj=sub-062, task=eyesclosed: 'NoneType' object has no attribute 'info'\n",
      "Нет файла: /Users/taniyashuba/PycharmProjects/eeg-transformer-gnn/data/ds004504/derivatives/sub-062/eeg/sub-062_task-eyesopen_eeg.set, пропускаем задачу eyesopen.\n",
      "Loading: /Users/taniyashuba/PycharmProjects/eeg-transformer-gnn/data/ds004504/derivatives/sub-063/eeg/sub-063_task-eyesclosed_eeg.set\n",
      "Ошибка subj=/Users/taniyashuba/PycharmProjects/eeg-transformer-gnn/data/ds004504/derivatives/sub-063/eeg/sub-063_task-eyesclosed_eeg.set: отсутствуют необходимые каналы ['A1', 'A2']\n",
      "Ошибка subj=sub-063, task=eyesclosed: 'NoneType' object has no attribute 'info'\n",
      "Нет файла: /Users/taniyashuba/PycharmProjects/eeg-transformer-gnn/data/ds004504/derivatives/sub-063/eeg/sub-063_task-eyesopen_eeg.set, пропускаем задачу eyesopen.\n",
      "Loading: /Users/taniyashuba/PycharmProjects/eeg-transformer-gnn/data/ds004504/derivatives/sub-064/eeg/sub-064_task-eyesclosed_eeg.set\n"
     ]
    },
    {
     "name": "stderr",
     "output_type": "stream",
     "text": [
      "/var/folders/87/d35_l8056xbbpvj6g4knhvsm0000gn/T/ipykernel_8684/2802821301.py:21: RuntimeWarning: The data contains 'boundary' events, indicating data discontinuities. Be cautious of filtering and epoching around these events.\n",
      "  raw = mne.io.read_raw_eeglab(set_fname, preload=True)\n",
      "/var/folders/87/d35_l8056xbbpvj6g4knhvsm0000gn/T/ipykernel_8684/2802821301.py:21: RuntimeWarning: The data contains 'boundary' events, indicating data discontinuities. Be cautious of filtering and epoching around these events.\n",
      "  raw = mne.io.read_raw_eeglab(set_fname, preload=True)\n",
      "/var/folders/87/d35_l8056xbbpvj6g4knhvsm0000gn/T/ipykernel_8684/2802821301.py:21: RuntimeWarning: The data contains 'boundary' events, indicating data discontinuities. Be cautious of filtering and epoching around these events.\n",
      "  raw = mne.io.read_raw_eeglab(set_fname, preload=True)\n",
      "/var/folders/87/d35_l8056xbbpvj6g4knhvsm0000gn/T/ipykernel_8684/2802821301.py:21: RuntimeWarning: The data contains 'boundary' events, indicating data discontinuities. Be cautious of filtering and epoching around these events.\n",
      "  raw = mne.io.read_raw_eeglab(set_fname, preload=True)\n"
     ]
    },
    {
     "name": "stdout",
     "output_type": "stream",
     "text": [
      "Ошибка subj=/Users/taniyashuba/PycharmProjects/eeg-transformer-gnn/data/ds004504/derivatives/sub-064/eeg/sub-064_task-eyesclosed_eeg.set: отсутствуют необходимые каналы ['A1', 'A2']\n",
      "Ошибка subj=sub-064, task=eyesclosed: 'NoneType' object has no attribute 'info'\n",
      "Нет файла: /Users/taniyashuba/PycharmProjects/eeg-transformer-gnn/data/ds004504/derivatives/sub-064/eeg/sub-064_task-eyesopen_eeg.set, пропускаем задачу eyesopen.\n",
      "Loading: /Users/taniyashuba/PycharmProjects/eeg-transformer-gnn/data/ds004504/derivatives/sub-065/eeg/sub-065_task-eyesclosed_eeg.set\n",
      "Ошибка subj=/Users/taniyashuba/PycharmProjects/eeg-transformer-gnn/data/ds004504/derivatives/sub-065/eeg/sub-065_task-eyesclosed_eeg.set: отсутствуют необходимые каналы ['A1', 'A2']\n",
      "Ошибка subj=sub-065, task=eyesclosed: 'NoneType' object has no attribute 'info'\n",
      "Нет файла: /Users/taniyashuba/PycharmProjects/eeg-transformer-gnn/data/ds004504/derivatives/sub-065/eeg/sub-065_task-eyesopen_eeg.set, пропускаем задачу eyesopen.\n",
      "Loading: /Users/taniyashuba/PycharmProjects/eeg-transformer-gnn/data/ds004504/derivatives/sub-066/eeg/sub-066_task-eyesclosed_eeg.set\n",
      "Ошибка subj=/Users/taniyashuba/PycharmProjects/eeg-transformer-gnn/data/ds004504/derivatives/sub-066/eeg/sub-066_task-eyesclosed_eeg.set: отсутствуют необходимые каналы ['A1', 'A2']\n",
      "Ошибка subj=sub-066, task=eyesclosed: 'NoneType' object has no attribute 'info'\n",
      "Нет файла: /Users/taniyashuba/PycharmProjects/eeg-transformer-gnn/data/ds004504/derivatives/sub-066/eeg/sub-066_task-eyesopen_eeg.set, пропускаем задачу eyesopen.\n",
      "Loading: /Users/taniyashuba/PycharmProjects/eeg-transformer-gnn/data/ds004504/derivatives/sub-067/eeg/sub-067_task-eyesclosed_eeg.set\n",
      "Ошибка subj=/Users/taniyashuba/PycharmProjects/eeg-transformer-gnn/data/ds004504/derivatives/sub-067/eeg/sub-067_task-eyesclosed_eeg.set: отсутствуют необходимые каналы ['A1', 'A2']\n",
      "Ошибка subj=sub-067, task=eyesclosed: 'NoneType' object has no attribute 'info'\n",
      "Нет файла: /Users/taniyashuba/PycharmProjects/eeg-transformer-gnn/data/ds004504/derivatives/sub-067/eeg/sub-067_task-eyesopen_eeg.set, пропускаем задачу eyesopen.\n",
      "Loading: /Users/taniyashuba/PycharmProjects/eeg-transformer-gnn/data/ds004504/derivatives/sub-068/eeg/sub-068_task-eyesclosed_eeg.set\n",
      "Ошибка subj=/Users/taniyashuba/PycharmProjects/eeg-transformer-gnn/data/ds004504/derivatives/sub-068/eeg/sub-068_task-eyesclosed_eeg.set: отсутствуют необходимые каналы ['A1', 'A2']\n",
      "Ошибка subj=sub-068, task=eyesclosed: 'NoneType' object has no attribute 'info'\n",
      "Нет файла: /Users/taniyashuba/PycharmProjects/eeg-transformer-gnn/data/ds004504/derivatives/sub-068/eeg/sub-068_task-eyesopen_eeg.set, пропускаем задачу eyesopen.\n",
      "Loading: /Users/taniyashuba/PycharmProjects/eeg-transformer-gnn/data/ds004504/derivatives/sub-069/eeg/sub-069_task-eyesclosed_eeg.set\n",
      "Ошибка subj=/Users/taniyashuba/PycharmProjects/eeg-transformer-gnn/data/ds004504/derivatives/sub-069/eeg/sub-069_task-eyesclosed_eeg.set: отсутствуют необходимые каналы ['A1', 'A2']\n",
      "Ошибка subj=sub-069, task=eyesclosed: 'NoneType' object has no attribute 'info'\n",
      "Нет файла: /Users/taniyashuba/PycharmProjects/eeg-transformer-gnn/data/ds004504/derivatives/sub-069/eeg/sub-069_task-eyesopen_eeg.set, пропускаем задачу eyesopen.\n",
      "Loading: /Users/taniyashuba/PycharmProjects/eeg-transformer-gnn/data/ds004504/derivatives/sub-070/eeg/sub-070_task-eyesclosed_eeg.set\n",
      "Ошибка subj=/Users/taniyashuba/PycharmProjects/eeg-transformer-gnn/data/ds004504/derivatives/sub-070/eeg/sub-070_task-eyesclosed_eeg.set: отсутствуют необходимые каналы ['A1', 'A2']\n",
      "Ошибка subj=sub-070, task=eyesclosed: 'NoneType' object has no attribute 'info'\n",
      "Нет файла: /Users/taniyashuba/PycharmProjects/eeg-transformer-gnn/data/ds004504/derivatives/sub-070/eeg/sub-070_task-eyesopen_eeg.set, пропускаем задачу eyesopen.\n",
      "Loading: /Users/taniyashuba/PycharmProjects/eeg-transformer-gnn/data/ds004504/derivatives/sub-071/eeg/sub-071_task-eyesclosed_eeg.set\n",
      "Ошибка subj=/Users/taniyashuba/PycharmProjects/eeg-transformer-gnn/data/ds004504/derivatives/sub-071/eeg/sub-071_task-eyesclosed_eeg.set: отсутствуют необходимые каналы ['A1', 'A2']\n",
      "Ошибка subj=sub-071, task=eyesclosed: 'NoneType' object has no attribute 'info'\n",
      "Нет файла: /Users/taniyashuba/PycharmProjects/eeg-transformer-gnn/data/ds004504/derivatives/sub-071/eeg/sub-071_task-eyesopen_eeg.set, пропускаем задачу eyesopen.\n",
      "Loading: /Users/taniyashuba/PycharmProjects/eeg-transformer-gnn/data/ds004504/derivatives/sub-072/eeg/sub-072_task-eyesclosed_eeg.set\n",
      "Ошибка subj=/Users/taniyashuba/PycharmProjects/eeg-transformer-gnn/data/ds004504/derivatives/sub-072/eeg/sub-072_task-eyesclosed_eeg.set: отсутствуют необходимые каналы ['A1', 'A2']\n",
      "Ошибка subj=sub-072, task=eyesclosed: 'NoneType' object has no attribute 'info'\n"
     ]
    },
    {
     "name": "stderr",
     "output_type": "stream",
     "text": [
      "/var/folders/87/d35_l8056xbbpvj6g4knhvsm0000gn/T/ipykernel_8684/2802821301.py:21: RuntimeWarning: The data contains 'boundary' events, indicating data discontinuities. Be cautious of filtering and epoching around these events.\n",
      "  raw = mne.io.read_raw_eeglab(set_fname, preload=True)\n",
      "/var/folders/87/d35_l8056xbbpvj6g4knhvsm0000gn/T/ipykernel_8684/2802821301.py:21: RuntimeWarning: The data contains 'boundary' events, indicating data discontinuities. Be cautious of filtering and epoching around these events.\n",
      "  raw = mne.io.read_raw_eeglab(set_fname, preload=True)\n",
      "/var/folders/87/d35_l8056xbbpvj6g4knhvsm0000gn/T/ipykernel_8684/2802821301.py:21: RuntimeWarning: The data contains 'boundary' events, indicating data discontinuities. Be cautious of filtering and epoching around these events.\n",
      "  raw = mne.io.read_raw_eeglab(set_fname, preload=True)\n",
      "/var/folders/87/d35_l8056xbbpvj6g4knhvsm0000gn/T/ipykernel_8684/2802821301.py:21: RuntimeWarning: The data contains 'boundary' events, indicating data discontinuities. Be cautious of filtering and epoching around these events.\n",
      "  raw = mne.io.read_raw_eeglab(set_fname, preload=True)\n"
     ]
    },
    {
     "name": "stdout",
     "output_type": "stream",
     "text": [
      "Нет файла: /Users/taniyashuba/PycharmProjects/eeg-transformer-gnn/data/ds004504/derivatives/sub-072/eeg/sub-072_task-eyesopen_eeg.set, пропускаем задачу eyesopen.\n",
      "Loading: /Users/taniyashuba/PycharmProjects/eeg-transformer-gnn/data/ds004504/derivatives/sub-073/eeg/sub-073_task-eyesclosed_eeg.set\n",
      "Ошибка subj=/Users/taniyashuba/PycharmProjects/eeg-transformer-gnn/data/ds004504/derivatives/sub-073/eeg/sub-073_task-eyesclosed_eeg.set: отсутствуют необходимые каналы ['A1', 'A2']\n",
      "Ошибка subj=sub-073, task=eyesclosed: 'NoneType' object has no attribute 'info'\n",
      "Нет файла: /Users/taniyashuba/PycharmProjects/eeg-transformer-gnn/data/ds004504/derivatives/sub-073/eeg/sub-073_task-eyesopen_eeg.set, пропускаем задачу eyesopen.\n",
      "Loading: /Users/taniyashuba/PycharmProjects/eeg-transformer-gnn/data/ds004504/derivatives/sub-074/eeg/sub-074_task-eyesclosed_eeg.set\n",
      "Ошибка subj=/Users/taniyashuba/PycharmProjects/eeg-transformer-gnn/data/ds004504/derivatives/sub-074/eeg/sub-074_task-eyesclosed_eeg.set: отсутствуют необходимые каналы ['A1', 'A2']\n",
      "Ошибка subj=sub-074, task=eyesclosed: 'NoneType' object has no attribute 'info'\n",
      "Нет файла: /Users/taniyashuba/PycharmProjects/eeg-transformer-gnn/data/ds004504/derivatives/sub-074/eeg/sub-074_task-eyesopen_eeg.set, пропускаем задачу eyesopen.\n",
      "Loading: /Users/taniyashuba/PycharmProjects/eeg-transformer-gnn/data/ds004504/derivatives/sub-075/eeg/sub-075_task-eyesclosed_eeg.set\n",
      "Ошибка subj=/Users/taniyashuba/PycharmProjects/eeg-transformer-gnn/data/ds004504/derivatives/sub-075/eeg/sub-075_task-eyesclosed_eeg.set: отсутствуют необходимые каналы ['A1', 'A2']\n",
      "Ошибка subj=sub-075, task=eyesclosed: 'NoneType' object has no attribute 'info'\n",
      "Нет файла: /Users/taniyashuba/PycharmProjects/eeg-transformer-gnn/data/ds004504/derivatives/sub-075/eeg/sub-075_task-eyesopen_eeg.set, пропускаем задачу eyesopen.\n",
      "Loading: /Users/taniyashuba/PycharmProjects/eeg-transformer-gnn/data/ds004504/derivatives/sub-076/eeg/sub-076_task-eyesclosed_eeg.set\n"
     ]
    },
    {
     "name": "stderr",
     "output_type": "stream",
     "text": [
      "/var/folders/87/d35_l8056xbbpvj6g4knhvsm0000gn/T/ipykernel_8684/2802821301.py:21: RuntimeWarning: The data contains 'boundary' events, indicating data discontinuities. Be cautious of filtering and epoching around these events.\n",
      "  raw = mne.io.read_raw_eeglab(set_fname, preload=True)\n",
      "/var/folders/87/d35_l8056xbbpvj6g4knhvsm0000gn/T/ipykernel_8684/2802821301.py:21: RuntimeWarning: The data contains 'boundary' events, indicating data discontinuities. Be cautious of filtering and epoching around these events.\n",
      "  raw = mne.io.read_raw_eeglab(set_fname, preload=True)\n",
      "/var/folders/87/d35_l8056xbbpvj6g4knhvsm0000gn/T/ipykernel_8684/2802821301.py:21: RuntimeWarning: The data contains 'boundary' events, indicating data discontinuities. Be cautious of filtering and epoching around these events.\n",
      "  raw = mne.io.read_raw_eeglab(set_fname, preload=True)\n",
      "/var/folders/87/d35_l8056xbbpvj6g4knhvsm0000gn/T/ipykernel_8684/2802821301.py:21: RuntimeWarning: The data contains 'boundary' events, indicating data discontinuities. Be cautious of filtering and epoching around these events.\n",
      "  raw = mne.io.read_raw_eeglab(set_fname, preload=True)\n"
     ]
    },
    {
     "name": "stdout",
     "output_type": "stream",
     "text": [
      "Ошибка subj=/Users/taniyashuba/PycharmProjects/eeg-transformer-gnn/data/ds004504/derivatives/sub-076/eeg/sub-076_task-eyesclosed_eeg.set: отсутствуют необходимые каналы ['A1', 'A2']\n",
      "Ошибка subj=sub-076, task=eyesclosed: 'NoneType' object has no attribute 'info'\n",
      "Нет файла: /Users/taniyashuba/PycharmProjects/eeg-transformer-gnn/data/ds004504/derivatives/sub-076/eeg/sub-076_task-eyesopen_eeg.set, пропускаем задачу eyesopen.\n",
      "Loading: /Users/taniyashuba/PycharmProjects/eeg-transformer-gnn/data/ds004504/derivatives/sub-077/eeg/sub-077_task-eyesclosed_eeg.set\n",
      "Ошибка subj=/Users/taniyashuba/PycharmProjects/eeg-transformer-gnn/data/ds004504/derivatives/sub-077/eeg/sub-077_task-eyesclosed_eeg.set: отсутствуют необходимые каналы ['A1', 'A2']\n",
      "Ошибка subj=sub-077, task=eyesclosed: 'NoneType' object has no attribute 'info'\n",
      "Нет файла: /Users/taniyashuba/PycharmProjects/eeg-transformer-gnn/data/ds004504/derivatives/sub-077/eeg/sub-077_task-eyesopen_eeg.set, пропускаем задачу eyesopen.\n",
      "Loading: /Users/taniyashuba/PycharmProjects/eeg-transformer-gnn/data/ds004504/derivatives/sub-078/eeg/sub-078_task-eyesclosed_eeg.set\n",
      "Ошибка subj=/Users/taniyashuba/PycharmProjects/eeg-transformer-gnn/data/ds004504/derivatives/sub-078/eeg/sub-078_task-eyesclosed_eeg.set: отсутствуют необходимые каналы ['A1', 'A2']\n",
      "Ошибка subj=sub-078, task=eyesclosed: 'NoneType' object has no attribute 'info'\n",
      "Нет файла: /Users/taniyashuba/PycharmProjects/eeg-transformer-gnn/data/ds004504/derivatives/sub-078/eeg/sub-078_task-eyesopen_eeg.set, пропускаем задачу eyesopen.\n",
      "Loading: /Users/taniyashuba/PycharmProjects/eeg-transformer-gnn/data/ds004504/derivatives/sub-079/eeg/sub-079_task-eyesclosed_eeg.set\n",
      "Ошибка subj=/Users/taniyashuba/PycharmProjects/eeg-transformer-gnn/data/ds004504/derivatives/sub-079/eeg/sub-079_task-eyesclosed_eeg.set: отсутствуют необходимые каналы ['A1', 'A2']\n",
      "Ошибка subj=sub-079, task=eyesclosed: 'NoneType' object has no attribute 'info'\n",
      "Нет файла: /Users/taniyashuba/PycharmProjects/eeg-transformer-gnn/data/ds004504/derivatives/sub-079/eeg/sub-079_task-eyesopen_eeg.set, пропускаем задачу eyesopen.\n",
      "Loading: /Users/taniyashuba/PycharmProjects/eeg-transformer-gnn/data/ds004504/derivatives/sub-080/eeg/sub-080_task-eyesclosed_eeg.set\n",
      "Ошибка subj=/Users/taniyashuba/PycharmProjects/eeg-transformer-gnn/data/ds004504/derivatives/sub-080/eeg/sub-080_task-eyesclosed_eeg.set: отсутствуют необходимые каналы ['A1', 'A2']\n",
      "Ошибка subj=sub-080, task=eyesclosed: 'NoneType' object has no attribute 'info'\n",
      "Нет файла: /Users/taniyashuba/PycharmProjects/eeg-transformer-gnn/data/ds004504/derivatives/sub-080/eeg/sub-080_task-eyesopen_eeg.set, пропускаем задачу eyesopen.\n"
     ]
    },
    {
     "name": "stderr",
     "output_type": "stream",
     "text": [
      "/var/folders/87/d35_l8056xbbpvj6g4knhvsm0000gn/T/ipykernel_8684/2802821301.py:21: RuntimeWarning: The data contains 'boundary' events, indicating data discontinuities. Be cautious of filtering and epoching around these events.\n",
      "  raw = mne.io.read_raw_eeglab(set_fname, preload=True)\n",
      "/var/folders/87/d35_l8056xbbpvj6g4knhvsm0000gn/T/ipykernel_8684/2802821301.py:21: RuntimeWarning: The data contains 'boundary' events, indicating data discontinuities. Be cautious of filtering and epoching around these events.\n",
      "  raw = mne.io.read_raw_eeglab(set_fname, preload=True)\n",
      "/var/folders/87/d35_l8056xbbpvj6g4knhvsm0000gn/T/ipykernel_8684/2802821301.py:21: RuntimeWarning: The data contains 'boundary' events, indicating data discontinuities. Be cautious of filtering and epoching around these events.\n",
      "  raw = mne.io.read_raw_eeglab(set_fname, preload=True)\n",
      "/var/folders/87/d35_l8056xbbpvj6g4knhvsm0000gn/T/ipykernel_8684/2802821301.py:21: RuntimeWarning: The data contains 'boundary' events, indicating data discontinuities. Be cautious of filtering and epoching around these events.\n",
      "  raw = mne.io.read_raw_eeglab(set_fname, preload=True)\n"
     ]
    },
    {
     "name": "stdout",
     "output_type": "stream",
     "text": [
      "Loading: /Users/taniyashuba/PycharmProjects/eeg-transformer-gnn/data/ds004504/derivatives/sub-081/eeg/sub-081_task-eyesclosed_eeg.set\n",
      "Ошибка subj=/Users/taniyashuba/PycharmProjects/eeg-transformer-gnn/data/ds004504/derivatives/sub-081/eeg/sub-081_task-eyesclosed_eeg.set: отсутствуют необходимые каналы ['A1', 'A2']\n",
      "Ошибка subj=sub-081, task=eyesclosed: 'NoneType' object has no attribute 'info'\n",
      "Нет файла: /Users/taniyashuba/PycharmProjects/eeg-transformer-gnn/data/ds004504/derivatives/sub-081/eeg/sub-081_task-eyesopen_eeg.set, пропускаем задачу eyesopen.\n",
      "Loading: /Users/taniyashuba/PycharmProjects/eeg-transformer-gnn/data/ds004504/derivatives/sub-082/eeg/sub-082_task-eyesclosed_eeg.set\n",
      "Ошибка subj=/Users/taniyashuba/PycharmProjects/eeg-transformer-gnn/data/ds004504/derivatives/sub-082/eeg/sub-082_task-eyesclosed_eeg.set: отсутствуют необходимые каналы ['A1', 'A2']\n",
      "Ошибка subj=sub-082, task=eyesclosed: 'NoneType' object has no attribute 'info'\n",
      "Нет файла: /Users/taniyashuba/PycharmProjects/eeg-transformer-gnn/data/ds004504/derivatives/sub-082/eeg/sub-082_task-eyesopen_eeg.set, пропускаем задачу eyesopen.\n",
      "Loading: /Users/taniyashuba/PycharmProjects/eeg-transformer-gnn/data/ds004504/derivatives/sub-083/eeg/sub-083_task-eyesclosed_eeg.set\n",
      "Ошибка subj=/Users/taniyashuba/PycharmProjects/eeg-transformer-gnn/data/ds004504/derivatives/sub-083/eeg/sub-083_task-eyesclosed_eeg.set: отсутствуют необходимые каналы ['A1', 'A2']\n",
      "Ошибка subj=sub-083, task=eyesclosed: 'NoneType' object has no attribute 'info'\n",
      "Нет файла: /Users/taniyashuba/PycharmProjects/eeg-transformer-gnn/data/ds004504/derivatives/sub-083/eeg/sub-083_task-eyesopen_eeg.set, пропускаем задачу eyesopen.\n",
      "Loading: /Users/taniyashuba/PycharmProjects/eeg-transformer-gnn/data/ds004504/derivatives/sub-084/eeg/sub-084_task-eyesclosed_eeg.set\n",
      "Ошибка subj=/Users/taniyashuba/PycharmProjects/eeg-transformer-gnn/data/ds004504/derivatives/sub-084/eeg/sub-084_task-eyesclosed_eeg.set: отсутствуют необходимые каналы ['A1', 'A2']\n",
      "Ошибка subj=sub-084, task=eyesclosed: 'NoneType' object has no attribute 'info'\n",
      "Нет файла: /Users/taniyashuba/PycharmProjects/eeg-transformer-gnn/data/ds004504/derivatives/sub-084/eeg/sub-084_task-eyesopen_eeg.set, пропускаем задачу eyesopen.\n",
      "Loading: /Users/taniyashuba/PycharmProjects/eeg-transformer-gnn/data/ds004504/derivatives/sub-085/eeg/sub-085_task-eyesclosed_eeg.set\n",
      "Ошибка subj=/Users/taniyashuba/PycharmProjects/eeg-transformer-gnn/data/ds004504/derivatives/sub-085/eeg/sub-085_task-eyesclosed_eeg.set: отсутствуют необходимые каналы ['A1', 'A2']\n",
      "Ошибка subj=sub-085, task=eyesclosed: 'NoneType' object has no attribute 'info'\n",
      "Нет файла: /Users/taniyashuba/PycharmProjects/eeg-transformer-gnn/data/ds004504/derivatives/sub-085/eeg/sub-085_task-eyesopen_eeg.set, пропускаем задачу eyesopen.\n",
      "Loading: /Users/taniyashuba/PycharmProjects/eeg-transformer-gnn/data/ds004504/derivatives/sub-086/eeg/sub-086_task-eyesclosed_eeg.set\n",
      "Ошибка subj=/Users/taniyashuba/PycharmProjects/eeg-transformer-gnn/data/ds004504/derivatives/sub-086/eeg/sub-086_task-eyesclosed_eeg.set: отсутствуют необходимые каналы ['A1', 'A2']\n",
      "Ошибка subj=sub-086, task=eyesclosed: 'NoneType' object has no attribute 'info'\n",
      "Нет файла: /Users/taniyashuba/PycharmProjects/eeg-transformer-gnn/data/ds004504/derivatives/sub-086/eeg/sub-086_task-eyesopen_eeg.set, пропускаем задачу eyesopen.\n",
      "Loading: /Users/taniyashuba/PycharmProjects/eeg-transformer-gnn/data/ds004504/derivatives/sub-087/eeg/sub-087_task-eyesclosed_eeg.set\n",
      "Ошибка subj=/Users/taniyashuba/PycharmProjects/eeg-transformer-gnn/data/ds004504/derivatives/sub-087/eeg/sub-087_task-eyesclosed_eeg.set: отсутствуют необходимые каналы ['A1', 'A2']\n",
      "Ошибка subj=sub-087, task=eyesclosed: 'NoneType' object has no attribute 'info'\n",
      "Нет файла: /Users/taniyashuba/PycharmProjects/eeg-transformer-gnn/data/ds004504/derivatives/sub-087/eeg/sub-087_task-eyesopen_eeg.set, пропускаем задачу eyesopen.\n",
      "Loading: /Users/taniyashuba/PycharmProjects/eeg-transformer-gnn/data/ds004504/derivatives/sub-088/eeg/sub-088_task-eyesclosed_eeg.set\n",
      "Ошибка subj=/Users/taniyashuba/PycharmProjects/eeg-transformer-gnn/data/ds004504/derivatives/sub-088/eeg/sub-088_task-eyesclosed_eeg.set: отсутствуют необходимые каналы ['A1', 'A2']\n",
      "Ошибка subj=sub-088, task=eyesclosed: 'NoneType' object has no attribute 'info'\n",
      "Нет файла: /Users/taniyashuba/PycharmProjects/eeg-transformer-gnn/data/ds004504/derivatives/sub-088/eeg/sub-088_task-eyesopen_eeg.set, пропускаем задачу eyesopen.\n",
      "Нет данных для сохранения. all_X пуст.\n"
     ]
    },
    {
     "name": "stderr",
     "output_type": "stream",
     "text": [
      "/var/folders/87/d35_l8056xbbpvj6g4knhvsm0000gn/T/ipykernel_8684/2802821301.py:21: RuntimeWarning: The data contains 'boundary' events, indicating data discontinuities. Be cautious of filtering and epoching around these events.\n",
      "  raw = mne.io.read_raw_eeglab(set_fname, preload=True)\n",
      "/var/folders/87/d35_l8056xbbpvj6g4knhvsm0000gn/T/ipykernel_8684/2802821301.py:21: RuntimeWarning: The data contains 'boundary' events, indicating data discontinuities. Be cautious of filtering and epoching around these events.\n",
      "  raw = mne.io.read_raw_eeglab(set_fname, preload=True)\n",
      "/var/folders/87/d35_l8056xbbpvj6g4knhvsm0000gn/T/ipykernel_8684/2802821301.py:21: RuntimeWarning: The data contains 'boundary' events, indicating data discontinuities. Be cautious of filtering and epoching around these events.\n",
      "  raw = mne.io.read_raw_eeglab(set_fname, preload=True)\n",
      "/var/folders/87/d35_l8056xbbpvj6g4knhvsm0000gn/T/ipykernel_8684/2802821301.py:21: RuntimeWarning: The data contains 'boundary' events, indicating data discontinuities. Be cautious of filtering and epoching around these events.\n",
      "  raw = mne.io.read_raw_eeglab(set_fname, preload=True)\n"
     ]
    }
   ],
   "execution_count": 37
  },
  {
   "metadata": {
    "ExecuteTime": {
     "end_time": "2025-01-27T14:07:20.072096Z",
     "start_time": "2025-01-27T14:07:20.068458Z"
    }
   },
   "cell_type": "code",
   "source": [
    "def process_one_subject(set_fname, l_freq=1., h_freq=40., do_ica=False, ica_ncomp=15):\n",
    "    \"\"\"\n",
    "    Открывает .set-файл, фильтрует, (опционально) ICA, возвращает Raw (MNE).\n",
    "    \"\"\"\n",
    "    print(f\"Loading: {set_fname}\")\n",
    "    raw = mne.io.read_raw_eeglab(set_fname, preload=True)\n",
    "\n",
    "    # Проверяем, присутствуют ли нужные каналы\n",
    "    required_channels = ['A1', 'A2']\n",
    "    missing_channels = [ch for ch in required_channels if ch not in raw.ch_names]\n",
    "\n",
    "    if missing_channels:\n",
    "        print(f\"Ошибка subj={set_fname}: отсутствуют необходимые каналы {missing_channels}\")\n",
    "        return None\n",
    "\n",
    "    print(f\"Filtering {l_freq}–{h_freq} Hz\")\n",
    "    raw.filter(l_freq=l_freq, h_freq=h_freq)\n",
    "    raw.set_eeg_reference(['A1', 'A2'], projection=False)\n",
    "\n",
    "    if do_ica:\n",
    "        print(f\"Applying ICA with {ica_ncomp} components (but not excluding any comps).\")\n",
    "        ica = mne.preprocessing.ICA(n_components=ica_ncomp, random_state=42)\n",
    "        ica.fit(raw)\n",
    "        raw = ica.apply(raw)\n",
    "\n",
    "    return raw\n"
   ],
   "id": "95f907da081b00f2",
   "outputs": [],
   "execution_count": 38
  }
 ],
 "metadata": {
  "kernelspec": {
   "display_name": "Python 3",
   "language": "python",
   "name": "python3"
  },
  "language_info": {
   "codemirror_mode": {
    "name": "ipython",
    "version": 2
   },
   "file_extension": ".py",
   "mimetype": "text/x-python",
   "name": "python",
   "nbconvert_exporter": "python",
   "pygments_lexer": "ipython2",
   "version": "2.7.6"
  }
 },
 "nbformat": 4,
 "nbformat_minor": 5
}
